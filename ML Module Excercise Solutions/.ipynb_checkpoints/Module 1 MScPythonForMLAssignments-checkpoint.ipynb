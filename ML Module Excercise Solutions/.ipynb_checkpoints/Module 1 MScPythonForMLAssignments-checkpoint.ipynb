{
 "cells": [
  {
   "cell_type": "markdown",
   "metadata": {},
   "source": [
    "# MODULE 1: ML MODULES"
   ]
  },
  {
   "cell_type": "markdown",
   "metadata": {},
   "source": [
    "    *************************************************************\n",
    "    Author:  Adeyemi Adedoyin Simeon\n",
    "    Program: MSc, Computer Science, University of Ibadan\n",
    "    Course:  Machine Learning\n",
    "    Date:    26th May, 2019\n",
    "    Version: 1.2\n",
    "    E-mail:  adeyemi.sa1@gmail.com\n",
    "    *************************************************************\n",
    "    \n",
    "    *Note: Please reference the author whenever and wherever you use all/portion of this code*"
   ]
  },
  {
   "cell_type": "markdown",
   "metadata": {},
   "source": [
    "# QUESTION (1)\n",
    "## A python program that will accept a comma separated sequence of words as input and prints the words in a comma-separated sequence after sorting them alphabetically. FOr example is the following is inputted to the program: \n",
    "hello, from, the , other, side\n",
    "## Then, the output should be:\n",
    "From , hello, other, side, the"
   ]
  },
  {
   "cell_type": "code",
   "execution_count": 7,
   "metadata": {},
   "outputs": [
    {
     "name": "stdout",
     "output_type": "stream",
     "text": [
      "from, hello, other, side, the\n"
     ]
    }
   ],
   "source": [
    "\n",
    "x = 'hello, from, the, other, side'\n",
    "y = x.split(', ')\n",
    "y.sort()\n",
    "print(', '.join(y))"
   ]
  },
  {
   "cell_type": "code",
   "execution_count": null,
   "metadata": {},
   "outputs": [],
   "source": []
  },
  {
   "cell_type": "markdown",
   "metadata": {},
   "source": [
    "# QUESTION (2)\n",
    "## Write a program that computes the value of x+xx+xxx+xxxx with a given digit as the value of x. If the input is: 9 Then, the output should be: 11106"
   ]
  },
  {
   "cell_type": "code",
   "execution_count": 8,
   "metadata": {},
   "outputs": [],
   "source": [
    "#Function to compute X+XX+XXX+XXXX given X e.g. given 9, the answer is 9+99+999+9999 = 11106\n",
    "def sumOfPower(x):\n",
    "    sum = 0\n",
    "    for duplicator in range(1,5):\n",
    "        sum += int(str(x) * duplicator)\n",
    "    \n",
    "    return sum"
   ]
  },
  {
   "cell_type": "code",
   "execution_count": 9,
   "metadata": {},
   "outputs": [
    {
     "data": {
      "text/plain": [
       "11106"
      ]
     },
     "execution_count": 9,
     "metadata": {},
     "output_type": "execute_result"
    }
   ],
   "source": [
    "sumOfPower(9)"
   ]
  },
  {
   "cell_type": "markdown",
   "metadata": {},
   "source": [
    "# QUESTION (3)\n",
    "## Write a program which accepts a string from console and print the characters that have even indexes, odd indexes, then prime indexes….seperately."
   ]
  },
  {
   "cell_type": "code",
   "execution_count": 25,
   "metadata": {},
   "outputs": [],
   "source": [
    "# I use this function to check whether an index is a prime number or not\n",
    "def is_prime(n):\n",
    "    # I assume a number, n is prime unto proven otherwise\n",
    "    prime_flag = True\n",
    "    \n",
    "    if(n <= 1):\n",
    "        return False\n",
    "        \n",
    "    for i in range(2,int(n/2)):\n",
    "        if(n % i == 0):\n",
    "            prime_flag = False\n",
    "            break\n",
    "    \n",
    "    if(prime_flag == True):\n",
    "        return True\n",
    "    else:\n",
    "        return False"
   ]
  },
  {
   "cell_type": "code",
   "execution_count": null,
   "metadata": {},
   "outputs": [],
   "source": []
  },
  {
   "cell_type": "code",
   "execution_count": 34,
   "metadata": {},
   "outputs": [],
   "source": [
    "def getEvenOddPrimeIndexCharacters(thestr):\n",
    "    evenIndex = []\n",
    "    oddIndex = []\n",
    "    primeIndex = []\n",
    "    \n",
    "    evenChar = []\n",
    "    oddChar = []\n",
    "    primeChar = []\n",
    "    for index in range(len(thestr)):\n",
    "        if (index % 2 == 0):\n",
    "            #Getting even index characters\n",
    "            evenChar.append(thestr[index])\n",
    "            evenIndex.append(index)\n",
    "        else:\n",
    "            #Getting odd index characters\n",
    "            oddChar.append(thestr[index])\n",
    "            oddIndex.append(index)\n",
    "                    \n",
    "        if (is_prime(index)):\n",
    "            primeChar.append(thestr[index])\n",
    "            primeIndex.append(index)\n",
    "            \n",
    "    \n",
    "    print('The Even Indeces are:\\t\\t {}'.format(evenIndex))\n",
    "    print('The Even Index Characters are:  {}\\n'.format(evenChar))\n",
    "    print('The Odd Indeces are:\\t\\t {}'.format(oddIndex))\n",
    "    print('The Odd Index Characters are:  {}\\n'.format(oddChar))\n",
    "    print('The Prime Indeces are:\\t\\t {}'.format(primeIndex))\n",
    "    print('The Prime Index Characters are:  {}'.format(primeChar))\n",
    "            \n",
    "    "
   ]
  },
  {
   "cell_type": "code",
   "execution_count": 36,
   "metadata": {},
   "outputs": [
    {
     "name": "stdout",
     "output_type": "stream",
     "text": [
      "The Even Indeces are:\t\t [0, 2, 4, 6, 8, 10, 12, 14, 16, 18, 20, 22, 24, 26, 28, 30, 32, 34]\n",
      "The Even Index Characters are:  ['I', 'L', 'V', ' ', 'Y', 'H', 'N', 'P', 'O', 'R', 'M', 'I', 'G', ' ', 'T', 'S', 'F', 'N']\n",
      "\n",
      "The Odd Indeces are:\t\t [1, 3, 5, 7, 9, 11, 13, 15, 17, 19, 21, 23, 25, 27, 29, 31, 33]\n",
      "The Odd Index Characters are:  [' ', 'O', 'E', 'P', 'T', 'O', ' ', 'R', 'G', 'A', 'M', 'N', '!', 'I', \"'\", ' ', 'U']\n",
      "\n",
      "The Prime Indeces are:\t\t [2, 3, 4, 5, 7, 11, 13, 17, 19, 23, 29, 31]\n",
      "The Prime Index Characters are:  ['L', 'O', 'V', 'E', 'P', 'O', ' ', 'G', 'A', 'N', \"'\", ' ']\n"
     ]
    }
   ],
   "source": [
    "getEvenOddPrimeIndexCharacters('I LOVE PYTHON PROGRAMMING! IT\\'S FUN')"
   ]
  },
  {
   "cell_type": "markdown",
   "metadata": {},
   "source": [
    "# QUESTION (4)\n",
    "## Use Python to solve one of the more well-known mathematical equations: the quadratic equation (ax2 + bx + c = 0)."
   ]
  },
  {
   "cell_type": "code",
   "execution_count": 38,
   "metadata": {},
   "outputs": [],
   "source": [
    "from math import sqrt"
   ]
  },
  {
   "cell_type": "code",
   "execution_count": 57,
   "metadata": {},
   "outputs": [],
   "source": [
    "def quadEquation(a,b,c):\n",
    "    disc = b ** 2 - 4 * a * c\n",
    "    if(disc < 0):\n",
    "        print('Complext roots, cannot find the squre root of negative number')\n",
    "        \n",
    "    else:\n",
    "        x1 = (-b + sqrt(disc)) / (2 * a)\n",
    "        x2 = (-b - sqrt(disc)) / (2 * a)\n",
    "        \n",
    "        #round-up to 2 decimal places\n",
    "        x1 = round(x1,2)\n",
    "        x2 = round(x2,2)\n",
    "        \n",
    "        print('The roots of the equation are: ({root1}, {root2})'.format(root1=x1, root2=x2))"
   ]
  },
  {
   "cell_type": "code",
   "execution_count": 58,
   "metadata": {},
   "outputs": [
    {
     "name": "stdout",
     "output_type": "stream",
     "text": [
      "Complext roots, cannot find the squre root of negative number\n"
     ]
    }
   ],
   "source": [
    "quadEquation(6,8,4)"
   ]
  },
  {
   "cell_type": "code",
   "execution_count": 59,
   "metadata": {},
   "outputs": [
    {
     "name": "stdout",
     "output_type": "stream",
     "text": [
      "The roots of the equation are: (-0.63, -2.37)\n"
     ]
    }
   ],
   "source": [
    "quadEquation(2,6,3)"
   ]
  },
  {
   "cell_type": "markdown",
   "metadata": {},
   "source": [
    "# QUESTION (5)\n",
    "## Write a python program to count the following from any txt document:\n",
    "● 1. Tokenisation\n",
    "● 2. How many words are there?\n",
    "● 3. The frequency of each word\n",
    "● 4. The most frequent word\n",
    "● 5. The less frequent word"
   ]
  },
  {
   "cell_type": "code",
   "execution_count": 135,
   "metadata": {},
   "outputs": [],
   "source": [
    "# importing pandas library (I will use this to count most and least frequent words)\n",
    "import pandas as pd"
   ]
  },
  {
   "cell_type": "code",
   "execution_count": 138,
   "metadata": {},
   "outputs": [],
   "source": [
    "def cleanFileContent(content):\n",
    "    cleaned_txt = content\n",
    "    if(content.find('\\r\\n') > -1):\n",
    "        cleaned_txt = content.replace('\\r\\n', '')\n",
    "    \n",
    "    return cleaned_txt"
   ]
  },
  {
   "cell_type": "code",
   "execution_count": 147,
   "metadata": {},
   "outputs": [
    {
     "name": "stdout",
     "output_type": "stream",
     "text": [
      "\n",
      "\n",
      "Text File Content:\n",
      "\n",
      " ----------------------------------------------------------------------------------------------------\n",
      "i think it is really nice. I also think and think again that it is nice really again and again.\n",
      "\n",
      " ----------------------------------------------------------------------------------------------------\n",
      "\n",
      "\n",
      "\t\t FILE ANALYSIS\n",
      "\n",
      "\t\t **************\n",
      "\n",
      "\n",
      " ----------------------------------------------------------------------------------------------------\n",
      "Tokenization:\n",
      " ['i', 'think', 'it', 'is', 'really', 'nice.', 'I', 'also', 'think', 'and', 'think', 'again', 'that', 'it', 'is', 'nice', 'really', 'again', 'and', 'again.']\n",
      "\n",
      " ----------------------------------------------------------------------------------------------------\n",
      "\n",
      "The Total Number of words in the text is:  20  words.\n",
      "\n",
      " ----------------------------------------------------------------------------------------------------\n",
      "\n",
      "The frequency of each word (word count):\n",
      "\n",
      " think     3\n",
      "it        2\n",
      "and       2\n",
      "again     2\n",
      "is        2\n",
      "really    2\n",
      "I         1\n",
      "i         1\n",
      "nice      1\n",
      "also      1\n",
      "nice.     1\n",
      "that      1\n",
      "again.    1\n",
      "dtype: int64\n",
      "\n",
      " ----------------------------------------------------------------------------------------------------\n",
      "\n",
      "The most frequent word is:  think\n",
      "\n",
      "All most frequent word(s) set:  ['think']\n",
      "\n",
      " ----------------------------------------------------------------------------------------------------\n",
      "\n",
      "The least frequent word is:  again.\n",
      "\n",
      "All least frequent word(s) set:  ['I', 'i', 'nice', 'also', 'nice.', 'that', 'again.']\n"
     ]
    }
   ],
   "source": [
    "file_handler = open('textual.txt',mode='r')\n",
    "texts = file_handler.read()\n",
    "file_handler.close()\n",
    "\n",
    "\n",
    "tokens = cleanFileContent(texts).split(' ')\n",
    "\n",
    "words = pd.Series(tokens)\n",
    "words_count = words.value_counts()\n",
    "\n",
    "most_freq = words_count.head(1).index[0]\n",
    "least_freq = words_count.tail(1).index[0]\n",
    "\n",
    "least_freq_set = []\n",
    "most_freq_set = []\n",
    "\n",
    "for i,val in enumerate(words_count.index):\n",
    "    if(words_count.values[i] == words_count.head(1)[0]):\n",
    "        most_freq_set.append(val)\n",
    "        \n",
    "    elif(words_count.values[i] == words_count.tail(1)[0]):\n",
    "        least_freq_set.append(val)\n",
    "\n",
    "\n",
    "\n",
    "print('\\n')\n",
    "print('Text File Content:')\n",
    "print('\\n', '-' * 100)\n",
    "print(texts)\n",
    "print('\\n', '-' * 100)\n",
    "print('\\n')\n",
    "print('\\t\\t FILE ANALYSIS\\n')\n",
    "print('\\t\\t **************\\n')\n",
    "print('\\n', '-' * 100)\n",
    "\n",
    "print('Tokenization:\\n', tokens)\n",
    "print('\\n', '-' * 100)\n",
    "\n",
    "print('\\nThe Total Number of words in the text is: ', len(tokens), ' words.')\n",
    "print('\\n', '-' * 100)\n",
    "\n",
    "print('\\nThe frequency of each word (word count):\\n\\n', words_count)\n",
    "print('\\n', '-' * 100)\n",
    "\n",
    "print('\\nThe most frequent word is: ', most_freq)\n",
    "print('\\nAll most frequent word(s) set: ', most_freq_set)\n",
    "print('\\n', '-' * 100)\n",
    "\n",
    "print('\\nThe least frequent word is: ', least_freq)\n",
    "print('\\nAll least frequent word(s) set: ', least_freq_set)\n",
    "\n"
   ]
  },
  {
   "cell_type": "code",
   "execution_count": null,
   "metadata": {},
   "outputs": [],
   "source": []
  }
 ],
 "metadata": {
  "kernelspec": {
   "display_name": "Python 3",
   "language": "python",
   "name": "python3"
  },
  "language_info": {
   "codemirror_mode": {
    "name": "ipython",
    "version": 3
   },
   "file_extension": ".py",
   "mimetype": "text/x-python",
   "name": "python",
   "nbconvert_exporter": "python",
   "pygments_lexer": "ipython3",
   "version": "3.6.5"
  }
 },
 "nbformat": 4,
 "nbformat_minor": 2
}
