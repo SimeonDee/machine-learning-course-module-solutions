{
 "cells": [
  {
   "cell_type": "markdown",
   "metadata": {},
   "source": [
    "# MODULE 4: WORKING YOUR WAY AROUND DATASETS"
   ]
  },
  {
   "cell_type": "markdown",
   "metadata": {},
   "source": [
    "    *************************************************************\n",
    "    Author:  Adeyemi Adedoyin Simeon\n",
    "    Program: MSc, Computer Science, University of Ibadan\n",
    "    Course:  Machine Learning\n",
    "    Date:    26th May, 2019\n",
    "    Version: 1.2\n",
    "    E-mail:  adeyemi.sa1@gmail.com\n",
    "    *************************************************************\n",
    "    \n",
    "    *Note: Please reference the author whenever and wherever you use all/portion of this code*"
   ]
  },
  {
   "cell_type": "markdown",
   "metadata": {},
   "source": [
    "## Importing Libraries"
   ]
  },
  {
   "cell_type": "code",
   "execution_count": 28,
   "metadata": {},
   "outputs": [],
   "source": [
    "import pandas as pd\n",
    "import numpy as np\n",
    "import matplotlib.pyplot as plt\n",
    "import seaborn as sns\n",
    "import sklearn"
   ]
  },
  {
   "cell_type": "code",
   "execution_count": 29,
   "metadata": {},
   "outputs": [],
   "source": [
    "%matplotlib inline"
   ]
  },
  {
   "cell_type": "markdown",
   "metadata": {},
   "source": [
    "## Loading data and creating Pandas Dataframe from it"
   ]
  },
  {
   "cell_type": "code",
   "execution_count": 30,
   "metadata": {},
   "outputs": [],
   "source": [
    "from sklearn.datasets import load_iris"
   ]
  },
  {
   "cell_type": "code",
   "execution_count": 31,
   "metadata": {},
   "outputs": [],
   "source": [
    "iris = load_iris()"
   ]
  },
  {
   "cell_type": "code",
   "execution_count": 32,
   "metadata": {},
   "outputs": [],
   "source": [
    "data = iris.data\n",
    "target = iris.target"
   ]
  },
  {
   "cell_type": "code",
   "execution_count": 33,
   "metadata": {},
   "outputs": [
    {
     "data": {
      "text/plain": [
       "['sepal length (cm)',\n",
       " 'sepal width (cm)',\n",
       " 'petal length (cm)',\n",
       " 'petal width (cm)']"
      ]
     },
     "execution_count": 33,
     "metadata": {},
     "output_type": "execute_result"
    }
   ],
   "source": [
    "iris.feature_names"
   ]
  },
  {
   "cell_type": "code",
   "execution_count": 34,
   "metadata": {},
   "outputs": [],
   "source": [
    "labels = ['Sepal Length','Sepal Width','Petal Length','Petal Width']"
   ]
  },
  {
   "cell_type": "code",
   "execution_count": 35,
   "metadata": {},
   "outputs": [],
   "source": [
    "df = pd.DataFrame(data,columns=labels)"
   ]
  },
  {
   "cell_type": "markdown",
   "metadata": {},
   "source": [
    "## Understanding and Describing Data"
   ]
  },
  {
   "cell_type": "code",
   "execution_count": 36,
   "metadata": {},
   "outputs": [
    {
     "data": {
      "text/html": [
       "<div>\n",
       "<style scoped>\n",
       "    .dataframe tbody tr th:only-of-type {\n",
       "        vertical-align: middle;\n",
       "    }\n",
       "\n",
       "    .dataframe tbody tr th {\n",
       "        vertical-align: top;\n",
       "    }\n",
       "\n",
       "    .dataframe thead th {\n",
       "        text-align: right;\n",
       "    }\n",
       "</style>\n",
       "<table border=\"1\" class=\"dataframe\">\n",
       "  <thead>\n",
       "    <tr style=\"text-align: right;\">\n",
       "      <th></th>\n",
       "      <th>Sepal Length</th>\n",
       "      <th>Sepal Width</th>\n",
       "      <th>Petal Length</th>\n",
       "      <th>Petal Width</th>\n",
       "    </tr>\n",
       "  </thead>\n",
       "  <tbody>\n",
       "    <tr>\n",
       "      <th>0</th>\n",
       "      <td>5.1</td>\n",
       "      <td>3.5</td>\n",
       "      <td>1.4</td>\n",
       "      <td>0.2</td>\n",
       "    </tr>\n",
       "    <tr>\n",
       "      <th>1</th>\n",
       "      <td>4.9</td>\n",
       "      <td>3.0</td>\n",
       "      <td>1.4</td>\n",
       "      <td>0.2</td>\n",
       "    </tr>\n",
       "    <tr>\n",
       "      <th>2</th>\n",
       "      <td>4.7</td>\n",
       "      <td>3.2</td>\n",
       "      <td>1.3</td>\n",
       "      <td>0.2</td>\n",
       "    </tr>\n",
       "    <tr>\n",
       "      <th>3</th>\n",
       "      <td>4.6</td>\n",
       "      <td>3.1</td>\n",
       "      <td>1.5</td>\n",
       "      <td>0.2</td>\n",
       "    </tr>\n",
       "    <tr>\n",
       "      <th>4</th>\n",
       "      <td>5.0</td>\n",
       "      <td>3.6</td>\n",
       "      <td>1.4</td>\n",
       "      <td>0.2</td>\n",
       "    </tr>\n",
       "  </tbody>\n",
       "</table>\n",
       "</div>"
      ],
      "text/plain": [
       "   Sepal Length  Sepal Width  Petal Length  Petal Width\n",
       "0           5.1          3.5           1.4          0.2\n",
       "1           4.9          3.0           1.4          0.2\n",
       "2           4.7          3.2           1.3          0.2\n",
       "3           4.6          3.1           1.5          0.2\n",
       "4           5.0          3.6           1.4          0.2"
      ]
     },
     "execution_count": 36,
     "metadata": {},
     "output_type": "execute_result"
    }
   ],
   "source": [
    "df.head()"
   ]
  },
  {
   "cell_type": "code",
   "execution_count": 37,
   "metadata": {},
   "outputs": [],
   "source": [
    "df['Target'] = target"
   ]
  },
  {
   "cell_type": "code",
   "execution_count": 38,
   "metadata": {},
   "outputs": [
    {
     "data": {
      "text/html": [
       "<div>\n",
       "<style scoped>\n",
       "    .dataframe tbody tr th:only-of-type {\n",
       "        vertical-align: middle;\n",
       "    }\n",
       "\n",
       "    .dataframe tbody tr th {\n",
       "        vertical-align: top;\n",
       "    }\n",
       "\n",
       "    .dataframe thead th {\n",
       "        text-align: right;\n",
       "    }\n",
       "</style>\n",
       "<table border=\"1\" class=\"dataframe\">\n",
       "  <thead>\n",
       "    <tr style=\"text-align: right;\">\n",
       "      <th></th>\n",
       "      <th>Sepal Length</th>\n",
       "      <th>Sepal Width</th>\n",
       "      <th>Petal Length</th>\n",
       "      <th>Petal Width</th>\n",
       "      <th>Target</th>\n",
       "    </tr>\n",
       "  </thead>\n",
       "  <tbody>\n",
       "    <tr>\n",
       "      <th>0</th>\n",
       "      <td>5.1</td>\n",
       "      <td>3.5</td>\n",
       "      <td>1.4</td>\n",
       "      <td>0.2</td>\n",
       "      <td>0</td>\n",
       "    </tr>\n",
       "    <tr>\n",
       "      <th>1</th>\n",
       "      <td>4.9</td>\n",
       "      <td>3.0</td>\n",
       "      <td>1.4</td>\n",
       "      <td>0.2</td>\n",
       "      <td>0</td>\n",
       "    </tr>\n",
       "    <tr>\n",
       "      <th>2</th>\n",
       "      <td>4.7</td>\n",
       "      <td>3.2</td>\n",
       "      <td>1.3</td>\n",
       "      <td>0.2</td>\n",
       "      <td>0</td>\n",
       "    </tr>\n",
       "    <tr>\n",
       "      <th>3</th>\n",
       "      <td>4.6</td>\n",
       "      <td>3.1</td>\n",
       "      <td>1.5</td>\n",
       "      <td>0.2</td>\n",
       "      <td>0</td>\n",
       "    </tr>\n",
       "    <tr>\n",
       "      <th>4</th>\n",
       "      <td>5.0</td>\n",
       "      <td>3.6</td>\n",
       "      <td>1.4</td>\n",
       "      <td>0.2</td>\n",
       "      <td>0</td>\n",
       "    </tr>\n",
       "  </tbody>\n",
       "</table>\n",
       "</div>"
      ],
      "text/plain": [
       "   Sepal Length  Sepal Width  Petal Length  Petal Width  Target\n",
       "0           5.1          3.5           1.4          0.2       0\n",
       "1           4.9          3.0           1.4          0.2       0\n",
       "2           4.7          3.2           1.3          0.2       0\n",
       "3           4.6          3.1           1.5          0.2       0\n",
       "4           5.0          3.6           1.4          0.2       0"
      ]
     },
     "execution_count": 38,
     "metadata": {},
     "output_type": "execute_result"
    }
   ],
   "source": [
    "df.head()"
   ]
  },
  {
   "cell_type": "code",
   "execution_count": 39,
   "metadata": {},
   "outputs": [
    {
     "data": {
      "text/html": [
       "<div>\n",
       "<style scoped>\n",
       "    .dataframe tbody tr th:only-of-type {\n",
       "        vertical-align: middle;\n",
       "    }\n",
       "\n",
       "    .dataframe tbody tr th {\n",
       "        vertical-align: top;\n",
       "    }\n",
       "\n",
       "    .dataframe thead th {\n",
       "        text-align: right;\n",
       "    }\n",
       "</style>\n",
       "<table border=\"1\" class=\"dataframe\">\n",
       "  <thead>\n",
       "    <tr style=\"text-align: right;\">\n",
       "      <th></th>\n",
       "      <th>Sepal Length</th>\n",
       "      <th>Sepal Width</th>\n",
       "      <th>Petal Length</th>\n",
       "      <th>Petal Width</th>\n",
       "      <th>Target</th>\n",
       "    </tr>\n",
       "  </thead>\n",
       "  <tbody>\n",
       "    <tr>\n",
       "      <th>count</th>\n",
       "      <td>150.000000</td>\n",
       "      <td>150.000000</td>\n",
       "      <td>150.000000</td>\n",
       "      <td>150.000000</td>\n",
       "      <td>150.000000</td>\n",
       "    </tr>\n",
       "    <tr>\n",
       "      <th>mean</th>\n",
       "      <td>5.843333</td>\n",
       "      <td>3.054000</td>\n",
       "      <td>3.758667</td>\n",
       "      <td>1.198667</td>\n",
       "      <td>1.000000</td>\n",
       "    </tr>\n",
       "    <tr>\n",
       "      <th>std</th>\n",
       "      <td>0.828066</td>\n",
       "      <td>0.433594</td>\n",
       "      <td>1.764420</td>\n",
       "      <td>0.763161</td>\n",
       "      <td>0.819232</td>\n",
       "    </tr>\n",
       "    <tr>\n",
       "      <th>min</th>\n",
       "      <td>4.300000</td>\n",
       "      <td>2.000000</td>\n",
       "      <td>1.000000</td>\n",
       "      <td>0.100000</td>\n",
       "      <td>0.000000</td>\n",
       "    </tr>\n",
       "    <tr>\n",
       "      <th>25%</th>\n",
       "      <td>5.100000</td>\n",
       "      <td>2.800000</td>\n",
       "      <td>1.600000</td>\n",
       "      <td>0.300000</td>\n",
       "      <td>0.000000</td>\n",
       "    </tr>\n",
       "    <tr>\n",
       "      <th>50%</th>\n",
       "      <td>5.800000</td>\n",
       "      <td>3.000000</td>\n",
       "      <td>4.350000</td>\n",
       "      <td>1.300000</td>\n",
       "      <td>1.000000</td>\n",
       "    </tr>\n",
       "    <tr>\n",
       "      <th>75%</th>\n",
       "      <td>6.400000</td>\n",
       "      <td>3.300000</td>\n",
       "      <td>5.100000</td>\n",
       "      <td>1.800000</td>\n",
       "      <td>2.000000</td>\n",
       "    </tr>\n",
       "    <tr>\n",
       "      <th>max</th>\n",
       "      <td>7.900000</td>\n",
       "      <td>4.400000</td>\n",
       "      <td>6.900000</td>\n",
       "      <td>2.500000</td>\n",
       "      <td>2.000000</td>\n",
       "    </tr>\n",
       "  </tbody>\n",
       "</table>\n",
       "</div>"
      ],
      "text/plain": [
       "       Sepal Length  Sepal Width  Petal Length  Petal Width      Target\n",
       "count    150.000000   150.000000    150.000000   150.000000  150.000000\n",
       "mean       5.843333     3.054000      3.758667     1.198667    1.000000\n",
       "std        0.828066     0.433594      1.764420     0.763161    0.819232\n",
       "min        4.300000     2.000000      1.000000     0.100000    0.000000\n",
       "25%        5.100000     2.800000      1.600000     0.300000    0.000000\n",
       "50%        5.800000     3.000000      4.350000     1.300000    1.000000\n",
       "75%        6.400000     3.300000      5.100000     1.800000    2.000000\n",
       "max        7.900000     4.400000      6.900000     2.500000    2.000000"
      ]
     },
     "execution_count": 39,
     "metadata": {},
     "output_type": "execute_result"
    }
   ],
   "source": [
    "df.describe()"
   ]
  },
  {
   "cell_type": "code",
   "execution_count": 40,
   "metadata": {},
   "outputs": [
    {
     "data": {
      "text/plain": [
       "(150, 5)"
      ]
     },
     "execution_count": 40,
     "metadata": {},
     "output_type": "execute_result"
    }
   ],
   "source": [
    "df.shape"
   ]
  },
  {
   "cell_type": "markdown",
   "metadata": {},
   "source": [
    "## Using \"lambda\" expression and adding columns to DataFrame"
   ]
  },
  {
   "cell_type": "code",
   "execution_count": 41,
   "metadata": {},
   "outputs": [
    {
     "data": {
      "text/plain": [
       "array(['setosa', 'versicolor', 'virginica'], dtype='<U10')"
      ]
     },
     "execution_count": 41,
     "metadata": {},
     "output_type": "execute_result"
    }
   ],
   "source": [
    "iris.target_names"
   ]
  },
  {
   "cell_type": "code",
   "execution_count": 42,
   "metadata": {},
   "outputs": [],
   "source": [
    "df['Target Name'] = df['Target'].apply(lambda x: iris.target_names[x])"
   ]
  },
  {
   "cell_type": "code",
   "execution_count": 43,
   "metadata": {},
   "outputs": [
    {
     "data": {
      "text/html": [
       "<div>\n",
       "<style scoped>\n",
       "    .dataframe tbody tr th:only-of-type {\n",
       "        vertical-align: middle;\n",
       "    }\n",
       "\n",
       "    .dataframe tbody tr th {\n",
       "        vertical-align: top;\n",
       "    }\n",
       "\n",
       "    .dataframe thead th {\n",
       "        text-align: right;\n",
       "    }\n",
       "</style>\n",
       "<table border=\"1\" class=\"dataframe\">\n",
       "  <thead>\n",
       "    <tr style=\"text-align: right;\">\n",
       "      <th></th>\n",
       "      <th>Sepal Length</th>\n",
       "      <th>Sepal Width</th>\n",
       "      <th>Petal Length</th>\n",
       "      <th>Petal Width</th>\n",
       "      <th>Target</th>\n",
       "      <th>Target Name</th>\n",
       "    </tr>\n",
       "  </thead>\n",
       "  <tbody>\n",
       "    <tr>\n",
       "      <th>0</th>\n",
       "      <td>5.1</td>\n",
       "      <td>3.5</td>\n",
       "      <td>1.4</td>\n",
       "      <td>0.2</td>\n",
       "      <td>0</td>\n",
       "      <td>setosa</td>\n",
       "    </tr>\n",
       "    <tr>\n",
       "      <th>1</th>\n",
       "      <td>4.9</td>\n",
       "      <td>3.0</td>\n",
       "      <td>1.4</td>\n",
       "      <td>0.2</td>\n",
       "      <td>0</td>\n",
       "      <td>setosa</td>\n",
       "    </tr>\n",
       "    <tr>\n",
       "      <th>2</th>\n",
       "      <td>4.7</td>\n",
       "      <td>3.2</td>\n",
       "      <td>1.3</td>\n",
       "      <td>0.2</td>\n",
       "      <td>0</td>\n",
       "      <td>setosa</td>\n",
       "    </tr>\n",
       "    <tr>\n",
       "      <th>3</th>\n",
       "      <td>4.6</td>\n",
       "      <td>3.1</td>\n",
       "      <td>1.5</td>\n",
       "      <td>0.2</td>\n",
       "      <td>0</td>\n",
       "      <td>setosa</td>\n",
       "    </tr>\n",
       "    <tr>\n",
       "      <th>4</th>\n",
       "      <td>5.0</td>\n",
       "      <td>3.6</td>\n",
       "      <td>1.4</td>\n",
       "      <td>0.2</td>\n",
       "      <td>0</td>\n",
       "      <td>setosa</td>\n",
       "    </tr>\n",
       "  </tbody>\n",
       "</table>\n",
       "</div>"
      ],
      "text/plain": [
       "   Sepal Length  Sepal Width  Petal Length  Petal Width  Target Target Name\n",
       "0           5.1          3.5           1.4          0.2       0      setosa\n",
       "1           4.9          3.0           1.4          0.2       0      setosa\n",
       "2           4.7          3.2           1.3          0.2       0      setosa\n",
       "3           4.6          3.1           1.5          0.2       0      setosa\n",
       "4           5.0          3.6           1.4          0.2       0      setosa"
      ]
     },
     "execution_count": 43,
     "metadata": {},
     "output_type": "execute_result"
    }
   ],
   "source": [
    "df.head()"
   ]
  },
  {
   "cell_type": "code",
   "execution_count": 44,
   "metadata": {},
   "outputs": [
    {
     "data": {
      "text/html": [
       "<div>\n",
       "<style scoped>\n",
       "    .dataframe tbody tr th:only-of-type {\n",
       "        vertical-align: middle;\n",
       "    }\n",
       "\n",
       "    .dataframe tbody tr th {\n",
       "        vertical-align: top;\n",
       "    }\n",
       "\n",
       "    .dataframe thead th {\n",
       "        text-align: right;\n",
       "    }\n",
       "</style>\n",
       "<table border=\"1\" class=\"dataframe\">\n",
       "  <thead>\n",
       "    <tr style=\"text-align: right;\">\n",
       "      <th></th>\n",
       "      <th>Sepal Length</th>\n",
       "      <th>Sepal Width</th>\n",
       "      <th>Petal Length</th>\n",
       "      <th>Petal Width</th>\n",
       "      <th>Target</th>\n",
       "    </tr>\n",
       "    <tr>\n",
       "      <th>Target Name</th>\n",
       "      <th></th>\n",
       "      <th></th>\n",
       "      <th></th>\n",
       "      <th></th>\n",
       "      <th></th>\n",
       "    </tr>\n",
       "  </thead>\n",
       "  <tbody>\n",
       "    <tr>\n",
       "      <th>setosa</th>\n",
       "      <td>5.006</td>\n",
       "      <td>3.418</td>\n",
       "      <td>1.464</td>\n",
       "      <td>0.244</td>\n",
       "      <td>0</td>\n",
       "    </tr>\n",
       "    <tr>\n",
       "      <th>versicolor</th>\n",
       "      <td>5.936</td>\n",
       "      <td>2.770</td>\n",
       "      <td>4.260</td>\n",
       "      <td>1.326</td>\n",
       "      <td>1</td>\n",
       "    </tr>\n",
       "    <tr>\n",
       "      <th>virginica</th>\n",
       "      <td>6.588</td>\n",
       "      <td>2.974</td>\n",
       "      <td>5.552</td>\n",
       "      <td>2.026</td>\n",
       "      <td>2</td>\n",
       "    </tr>\n",
       "  </tbody>\n",
       "</table>\n",
       "</div>"
      ],
      "text/plain": [
       "             Sepal Length  Sepal Width  Petal Length  Petal Width  Target\n",
       "Target Name                                                              \n",
       "setosa              5.006        3.418         1.464        0.244       0\n",
       "versicolor          5.936        2.770         4.260        1.326       1\n",
       "virginica           6.588        2.974         5.552        2.026       2"
      ]
     },
     "execution_count": 44,
     "metadata": {},
     "output_type": "execute_result"
    }
   ],
   "source": [
    "df.groupby('Target Name').mean()"
   ]
  },
  {
   "cell_type": "code",
   "execution_count": 45,
   "metadata": {},
   "outputs": [
    {
     "data": {
      "text/plain": [
       "Target Name\n",
       "setosa        50\n",
       "versicolor    50\n",
       "virginica     50\n",
       "dtype: int64"
      ]
     },
     "execution_count": 45,
     "metadata": {},
     "output_type": "execute_result"
    }
   ],
   "source": [
    "df.groupby('Target Name').size()"
   ]
  },
  {
   "cell_type": "markdown",
   "metadata": {},
   "source": [
    "# Preprocessing Data : Scaling"
   ]
  },
  {
   "cell_type": "code",
   "execution_count": 46,
   "metadata": {},
   "outputs": [],
   "source": [
    "from sklearn.preprocessing import scale"
   ]
  },
  {
   "cell_type": "code",
   "execution_count": 47,
   "metadata": {},
   "outputs": [],
   "source": [
    "scaled_data = scale(df.drop(['Target','Target Name'],axis=1))"
   ]
  },
  {
   "cell_type": "code",
   "execution_count": 48,
   "metadata": {},
   "outputs": [],
   "source": [
    "scaled_df = pd.DataFrame(scaled_data,columns=labels)"
   ]
  },
  {
   "cell_type": "code",
   "execution_count": 49,
   "metadata": {},
   "outputs": [
    {
     "data": {
      "text/html": [
       "<div>\n",
       "<style scoped>\n",
       "    .dataframe tbody tr th:only-of-type {\n",
       "        vertical-align: middle;\n",
       "    }\n",
       "\n",
       "    .dataframe tbody tr th {\n",
       "        vertical-align: top;\n",
       "    }\n",
       "\n",
       "    .dataframe thead th {\n",
       "        text-align: right;\n",
       "    }\n",
       "</style>\n",
       "<table border=\"1\" class=\"dataframe\">\n",
       "  <thead>\n",
       "    <tr style=\"text-align: right;\">\n",
       "      <th></th>\n",
       "      <th>Sepal Length</th>\n",
       "      <th>Sepal Width</th>\n",
       "      <th>Petal Length</th>\n",
       "      <th>Petal Width</th>\n",
       "    </tr>\n",
       "  </thead>\n",
       "  <tbody>\n",
       "    <tr>\n",
       "      <th>0</th>\n",
       "      <td>-0.900681</td>\n",
       "      <td>1.032057</td>\n",
       "      <td>-1.341272</td>\n",
       "      <td>-1.312977</td>\n",
       "    </tr>\n",
       "    <tr>\n",
       "      <th>1</th>\n",
       "      <td>-1.143017</td>\n",
       "      <td>-0.124958</td>\n",
       "      <td>-1.341272</td>\n",
       "      <td>-1.312977</td>\n",
       "    </tr>\n",
       "    <tr>\n",
       "      <th>2</th>\n",
       "      <td>-1.385353</td>\n",
       "      <td>0.337848</td>\n",
       "      <td>-1.398138</td>\n",
       "      <td>-1.312977</td>\n",
       "    </tr>\n",
       "    <tr>\n",
       "      <th>3</th>\n",
       "      <td>-1.506521</td>\n",
       "      <td>0.106445</td>\n",
       "      <td>-1.284407</td>\n",
       "      <td>-1.312977</td>\n",
       "    </tr>\n",
       "    <tr>\n",
       "      <th>4</th>\n",
       "      <td>-1.021849</td>\n",
       "      <td>1.263460</td>\n",
       "      <td>-1.341272</td>\n",
       "      <td>-1.312977</td>\n",
       "    </tr>\n",
       "  </tbody>\n",
       "</table>\n",
       "</div>"
      ],
      "text/plain": [
       "   Sepal Length  Sepal Width  Petal Length  Petal Width\n",
       "0     -0.900681     1.032057     -1.341272    -1.312977\n",
       "1     -1.143017    -0.124958     -1.341272    -1.312977\n",
       "2     -1.385353     0.337848     -1.398138    -1.312977\n",
       "3     -1.506521     0.106445     -1.284407    -1.312977\n",
       "4     -1.021849     1.263460     -1.341272    -1.312977"
      ]
     },
     "execution_count": 49,
     "metadata": {},
     "output_type": "execute_result"
    }
   ],
   "source": [
    "scaled_df.head()"
   ]
  },
  {
   "cell_type": "markdown",
   "metadata": {},
   "source": [
    "## Getting correlation among data features"
   ]
  },
  {
   "cell_type": "code",
   "execution_count": 50,
   "metadata": {},
   "outputs": [
    {
     "data": {
      "text/html": [
       "<div>\n",
       "<style scoped>\n",
       "    .dataframe tbody tr th:only-of-type {\n",
       "        vertical-align: middle;\n",
       "    }\n",
       "\n",
       "    .dataframe tbody tr th {\n",
       "        vertical-align: top;\n",
       "    }\n",
       "\n",
       "    .dataframe thead th {\n",
       "        text-align: right;\n",
       "    }\n",
       "</style>\n",
       "<table border=\"1\" class=\"dataframe\">\n",
       "  <thead>\n",
       "    <tr style=\"text-align: right;\">\n",
       "      <th></th>\n",
       "      <th>Sepal Length</th>\n",
       "      <th>Sepal Width</th>\n",
       "      <th>Petal Length</th>\n",
       "      <th>Petal Width</th>\n",
       "    </tr>\n",
       "  </thead>\n",
       "  <tbody>\n",
       "    <tr>\n",
       "      <th>Sepal Length</th>\n",
       "      <td>1.000000</td>\n",
       "      <td>-0.109369</td>\n",
       "      <td>0.871754</td>\n",
       "      <td>0.817954</td>\n",
       "    </tr>\n",
       "    <tr>\n",
       "      <th>Sepal Width</th>\n",
       "      <td>-0.109369</td>\n",
       "      <td>1.000000</td>\n",
       "      <td>-0.420516</td>\n",
       "      <td>-0.356544</td>\n",
       "    </tr>\n",
       "    <tr>\n",
       "      <th>Petal Length</th>\n",
       "      <td>0.871754</td>\n",
       "      <td>-0.420516</td>\n",
       "      <td>1.000000</td>\n",
       "      <td>0.962757</td>\n",
       "    </tr>\n",
       "    <tr>\n",
       "      <th>Petal Width</th>\n",
       "      <td>0.817954</td>\n",
       "      <td>-0.356544</td>\n",
       "      <td>0.962757</td>\n",
       "      <td>1.000000</td>\n",
       "    </tr>\n",
       "  </tbody>\n",
       "</table>\n",
       "</div>"
      ],
      "text/plain": [
       "              Sepal Length  Sepal Width  Petal Length  Petal Width\n",
       "Sepal Length      1.000000    -0.109369      0.871754     0.817954\n",
       "Sepal Width      -0.109369     1.000000     -0.420516    -0.356544\n",
       "Petal Length      0.871754    -0.420516      1.000000     0.962757\n",
       "Petal Width       0.817954    -0.356544      0.962757     1.000000"
      ]
     },
     "execution_count": 50,
     "metadata": {},
     "output_type": "execute_result"
    }
   ],
   "source": [
    "scaled_df.corr()"
   ]
  },
  {
   "cell_type": "markdown",
   "metadata": {},
   "source": [
    "## Converting a pandas DataFrame to a Numpy array"
   ]
  },
  {
   "cell_type": "code",
   "execution_count": 51,
   "metadata": {},
   "outputs": [],
   "source": [
    "np_arr = np.array(df.values)"
   ]
  },
  {
   "cell_type": "code",
   "execution_count": 52,
   "metadata": {},
   "outputs": [
    {
     "data": {
      "text/plain": [
       "array([[5.1, 3.5, 1.4, 0.2, 0, 'setosa'],\n",
       "       [4.9, 3.0, 1.4, 0.2, 0, 'setosa'],\n",
       "       [4.7, 3.2, 1.3, 0.2, 0, 'setosa'],\n",
       "       [4.6, 3.1, 1.5, 0.2, 0, 'setosa'],\n",
       "       [5.0, 3.6, 1.4, 0.2, 0, 'setosa'],\n",
       "       [5.4, 3.9, 1.7, 0.4, 0, 'setosa'],\n",
       "       [4.6, 3.4, 1.4, 0.3, 0, 'setosa'],\n",
       "       [5.0, 3.4, 1.5, 0.2, 0, 'setosa'],\n",
       "       [4.4, 2.9, 1.4, 0.2, 0, 'setosa'],\n",
       "       [4.9, 3.1, 1.5, 0.1, 0, 'setosa'],\n",
       "       [5.4, 3.7, 1.5, 0.2, 0, 'setosa'],\n",
       "       [4.8, 3.4, 1.6, 0.2, 0, 'setosa'],\n",
       "       [4.8, 3.0, 1.4, 0.1, 0, 'setosa'],\n",
       "       [4.3, 3.0, 1.1, 0.1, 0, 'setosa'],\n",
       "       [5.8, 4.0, 1.2, 0.2, 0, 'setosa'],\n",
       "       [5.7, 4.4, 1.5, 0.4, 0, 'setosa'],\n",
       "       [5.4, 3.9, 1.3, 0.4, 0, 'setosa'],\n",
       "       [5.1, 3.5, 1.4, 0.3, 0, 'setosa'],\n",
       "       [5.7, 3.8, 1.7, 0.3, 0, 'setosa'],\n",
       "       [5.1, 3.8, 1.5, 0.3, 0, 'setosa'],\n",
       "       [5.4, 3.4, 1.7, 0.2, 0, 'setosa'],\n",
       "       [5.1, 3.7, 1.5, 0.4, 0, 'setosa'],\n",
       "       [4.6, 3.6, 1.0, 0.2, 0, 'setosa'],\n",
       "       [5.1, 3.3, 1.7, 0.5, 0, 'setosa'],\n",
       "       [4.8, 3.4, 1.9, 0.2, 0, 'setosa'],\n",
       "       [5.0, 3.0, 1.6, 0.2, 0, 'setosa'],\n",
       "       [5.0, 3.4, 1.6, 0.4, 0, 'setosa'],\n",
       "       [5.2, 3.5, 1.5, 0.2, 0, 'setosa'],\n",
       "       [5.2, 3.4, 1.4, 0.2, 0, 'setosa'],\n",
       "       [4.7, 3.2, 1.6, 0.2, 0, 'setosa'],\n",
       "       [4.8, 3.1, 1.6, 0.2, 0, 'setosa'],\n",
       "       [5.4, 3.4, 1.5, 0.4, 0, 'setosa'],\n",
       "       [5.2, 4.1, 1.5, 0.1, 0, 'setosa'],\n",
       "       [5.5, 4.2, 1.4, 0.2, 0, 'setosa'],\n",
       "       [4.9, 3.1, 1.5, 0.1, 0, 'setosa'],\n",
       "       [5.0, 3.2, 1.2, 0.2, 0, 'setosa'],\n",
       "       [5.5, 3.5, 1.3, 0.2, 0, 'setosa'],\n",
       "       [4.9, 3.1, 1.5, 0.1, 0, 'setosa'],\n",
       "       [4.4, 3.0, 1.3, 0.2, 0, 'setosa'],\n",
       "       [5.1, 3.4, 1.5, 0.2, 0, 'setosa'],\n",
       "       [5.0, 3.5, 1.3, 0.3, 0, 'setosa'],\n",
       "       [4.5, 2.3, 1.3, 0.3, 0, 'setosa'],\n",
       "       [4.4, 3.2, 1.3, 0.2, 0, 'setosa'],\n",
       "       [5.0, 3.5, 1.6, 0.6, 0, 'setosa'],\n",
       "       [5.1, 3.8, 1.9, 0.4, 0, 'setosa'],\n",
       "       [4.8, 3.0, 1.4, 0.3, 0, 'setosa'],\n",
       "       [5.1, 3.8, 1.6, 0.2, 0, 'setosa'],\n",
       "       [4.6, 3.2, 1.4, 0.2, 0, 'setosa'],\n",
       "       [5.3, 3.7, 1.5, 0.2, 0, 'setosa'],\n",
       "       [5.0, 3.3, 1.4, 0.2, 0, 'setosa'],\n",
       "       [7.0, 3.2, 4.7, 1.4, 1, 'versicolor'],\n",
       "       [6.4, 3.2, 4.5, 1.5, 1, 'versicolor'],\n",
       "       [6.9, 3.1, 4.9, 1.5, 1, 'versicolor'],\n",
       "       [5.5, 2.3, 4.0, 1.3, 1, 'versicolor'],\n",
       "       [6.5, 2.8, 4.6, 1.5, 1, 'versicolor'],\n",
       "       [5.7, 2.8, 4.5, 1.3, 1, 'versicolor'],\n",
       "       [6.3, 3.3, 4.7, 1.6, 1, 'versicolor'],\n",
       "       [4.9, 2.4, 3.3, 1.0, 1, 'versicolor'],\n",
       "       [6.6, 2.9, 4.6, 1.3, 1, 'versicolor'],\n",
       "       [5.2, 2.7, 3.9, 1.4, 1, 'versicolor'],\n",
       "       [5.0, 2.0, 3.5, 1.0, 1, 'versicolor'],\n",
       "       [5.9, 3.0, 4.2, 1.5, 1, 'versicolor'],\n",
       "       [6.0, 2.2, 4.0, 1.0, 1, 'versicolor'],\n",
       "       [6.1, 2.9, 4.7, 1.4, 1, 'versicolor'],\n",
       "       [5.6, 2.9, 3.6, 1.3, 1, 'versicolor'],\n",
       "       [6.7, 3.1, 4.4, 1.4, 1, 'versicolor'],\n",
       "       [5.6, 3.0, 4.5, 1.5, 1, 'versicolor'],\n",
       "       [5.8, 2.7, 4.1, 1.0, 1, 'versicolor'],\n",
       "       [6.2, 2.2, 4.5, 1.5, 1, 'versicolor'],\n",
       "       [5.6, 2.5, 3.9, 1.1, 1, 'versicolor'],\n",
       "       [5.9, 3.2, 4.8, 1.8, 1, 'versicolor'],\n",
       "       [6.1, 2.8, 4.0, 1.3, 1, 'versicolor'],\n",
       "       [6.3, 2.5, 4.9, 1.5, 1, 'versicolor'],\n",
       "       [6.1, 2.8, 4.7, 1.2, 1, 'versicolor'],\n",
       "       [6.4, 2.9, 4.3, 1.3, 1, 'versicolor'],\n",
       "       [6.6, 3.0, 4.4, 1.4, 1, 'versicolor'],\n",
       "       [6.8, 2.8, 4.8, 1.4, 1, 'versicolor'],\n",
       "       [6.7, 3.0, 5.0, 1.7, 1, 'versicolor'],\n",
       "       [6.0, 2.9, 4.5, 1.5, 1, 'versicolor'],\n",
       "       [5.7, 2.6, 3.5, 1.0, 1, 'versicolor'],\n",
       "       [5.5, 2.4, 3.8, 1.1, 1, 'versicolor'],\n",
       "       [5.5, 2.4, 3.7, 1.0, 1, 'versicolor'],\n",
       "       [5.8, 2.7, 3.9, 1.2, 1, 'versicolor'],\n",
       "       [6.0, 2.7, 5.1, 1.6, 1, 'versicolor'],\n",
       "       [5.4, 3.0, 4.5, 1.5, 1, 'versicolor'],\n",
       "       [6.0, 3.4, 4.5, 1.6, 1, 'versicolor'],\n",
       "       [6.7, 3.1, 4.7, 1.5, 1, 'versicolor'],\n",
       "       [6.3, 2.3, 4.4, 1.3, 1, 'versicolor'],\n",
       "       [5.6, 3.0, 4.1, 1.3, 1, 'versicolor'],\n",
       "       [5.5, 2.5, 4.0, 1.3, 1, 'versicolor'],\n",
       "       [5.5, 2.6, 4.4, 1.2, 1, 'versicolor'],\n",
       "       [6.1, 3.0, 4.6, 1.4, 1, 'versicolor'],\n",
       "       [5.8, 2.6, 4.0, 1.2, 1, 'versicolor'],\n",
       "       [5.0, 2.3, 3.3, 1.0, 1, 'versicolor'],\n",
       "       [5.6, 2.7, 4.2, 1.3, 1, 'versicolor'],\n",
       "       [5.7, 3.0, 4.2, 1.2, 1, 'versicolor'],\n",
       "       [5.7, 2.9, 4.2, 1.3, 1, 'versicolor'],\n",
       "       [6.2, 2.9, 4.3, 1.3, 1, 'versicolor'],\n",
       "       [5.1, 2.5, 3.0, 1.1, 1, 'versicolor'],\n",
       "       [5.7, 2.8, 4.1, 1.3, 1, 'versicolor'],\n",
       "       [6.3, 3.3, 6.0, 2.5, 2, 'virginica'],\n",
       "       [5.8, 2.7, 5.1, 1.9, 2, 'virginica'],\n",
       "       [7.1, 3.0, 5.9, 2.1, 2, 'virginica'],\n",
       "       [6.3, 2.9, 5.6, 1.8, 2, 'virginica'],\n",
       "       [6.5, 3.0, 5.8, 2.2, 2, 'virginica'],\n",
       "       [7.6, 3.0, 6.6, 2.1, 2, 'virginica'],\n",
       "       [4.9, 2.5, 4.5, 1.7, 2, 'virginica'],\n",
       "       [7.3, 2.9, 6.3, 1.8, 2, 'virginica'],\n",
       "       [6.7, 2.5, 5.8, 1.8, 2, 'virginica'],\n",
       "       [7.2, 3.6, 6.1, 2.5, 2, 'virginica'],\n",
       "       [6.5, 3.2, 5.1, 2.0, 2, 'virginica'],\n",
       "       [6.4, 2.7, 5.3, 1.9, 2, 'virginica'],\n",
       "       [6.8, 3.0, 5.5, 2.1, 2, 'virginica'],\n",
       "       [5.7, 2.5, 5.0, 2.0, 2, 'virginica'],\n",
       "       [5.8, 2.8, 5.1, 2.4, 2, 'virginica'],\n",
       "       [6.4, 3.2, 5.3, 2.3, 2, 'virginica'],\n",
       "       [6.5, 3.0, 5.5, 1.8, 2, 'virginica'],\n",
       "       [7.7, 3.8, 6.7, 2.2, 2, 'virginica'],\n",
       "       [7.7, 2.6, 6.9, 2.3, 2, 'virginica'],\n",
       "       [6.0, 2.2, 5.0, 1.5, 2, 'virginica'],\n",
       "       [6.9, 3.2, 5.7, 2.3, 2, 'virginica'],\n",
       "       [5.6, 2.8, 4.9, 2.0, 2, 'virginica'],\n",
       "       [7.7, 2.8, 6.7, 2.0, 2, 'virginica'],\n",
       "       [6.3, 2.7, 4.9, 1.8, 2, 'virginica'],\n",
       "       [6.7, 3.3, 5.7, 2.1, 2, 'virginica'],\n",
       "       [7.2, 3.2, 6.0, 1.8, 2, 'virginica'],\n",
       "       [6.2, 2.8, 4.8, 1.8, 2, 'virginica'],\n",
       "       [6.1, 3.0, 4.9, 1.8, 2, 'virginica'],\n",
       "       [6.4, 2.8, 5.6, 2.1, 2, 'virginica'],\n",
       "       [7.2, 3.0, 5.8, 1.6, 2, 'virginica'],\n",
       "       [7.4, 2.8, 6.1, 1.9, 2, 'virginica'],\n",
       "       [7.9, 3.8, 6.4, 2.0, 2, 'virginica'],\n",
       "       [6.4, 2.8, 5.6, 2.2, 2, 'virginica'],\n",
       "       [6.3, 2.8, 5.1, 1.5, 2, 'virginica'],\n",
       "       [6.1, 2.6, 5.6, 1.4, 2, 'virginica'],\n",
       "       [7.7, 3.0, 6.1, 2.3, 2, 'virginica'],\n",
       "       [6.3, 3.4, 5.6, 2.4, 2, 'virginica'],\n",
       "       [6.4, 3.1, 5.5, 1.8, 2, 'virginica'],\n",
       "       [6.0, 3.0, 4.8, 1.8, 2, 'virginica'],\n",
       "       [6.9, 3.1, 5.4, 2.1, 2, 'virginica'],\n",
       "       [6.7, 3.1, 5.6, 2.4, 2, 'virginica'],\n",
       "       [6.9, 3.1, 5.1, 2.3, 2, 'virginica'],\n",
       "       [5.8, 2.7, 5.1, 1.9, 2, 'virginica'],\n",
       "       [6.8, 3.2, 5.9, 2.3, 2, 'virginica'],\n",
       "       [6.7, 3.3, 5.7, 2.5, 2, 'virginica'],\n",
       "       [6.7, 3.0, 5.2, 2.3, 2, 'virginica'],\n",
       "       [6.3, 2.5, 5.0, 1.9, 2, 'virginica'],\n",
       "       [6.5, 3.0, 5.2, 2.0, 2, 'virginica'],\n",
       "       [6.2, 3.4, 5.4, 2.3, 2, 'virginica'],\n",
       "       [5.9, 3.0, 5.1, 1.8, 2, 'virginica']], dtype=object)"
      ]
     },
     "execution_count": 52,
     "metadata": {},
     "output_type": "execute_result"
    }
   ],
   "source": [
    "np_arr"
   ]
  },
  {
   "cell_type": "markdown",
   "metadata": {},
   "source": [
    "# VISUALIZATIONS USING matplotlib and seaborn"
   ]
  },
  {
   "cell_type": "code",
   "execution_count": 53,
   "metadata": {},
   "outputs": [
    {
     "data": {
      "image/png": "[encoded data removed]",
      "text/plain": [
       "<Figure size 432x288 with 1 Axes>"
      ]
     },
     "metadata": {},
     "output_type": "display_data"
    }
   ],
   "source": [
    "plt.scatter(data=df, x='Petal Length', y='Sepal Length')\n",
    "plt.title('Graph of Petal Length Against Sepal Length')\n",
    "plt.show()"
   ]
  },
  {
   "cell_type": "code",
   "execution_count": null,
   "metadata": {},
   "outputs": [],
   "source": []
  },
  {
   "cell_type": "code",
   "execution_count": 56,
   "metadata": {},
   "outputs": [
    {
     "data": {
      "text/plain": [
       "Text(0.5,1,'Graph of Petal Length Against Sepal Length')"
      ]
     },
     "execution_count": 56,
     "metadata": {},
     "output_type": "execute_result"
    },
    {
     "data": {
      "image/png": "[encoded data removed]",
      "text/plain": [
       "<Figure size 432x216 with 1 Axes>"
      ]
     },
     "metadata": {},
     "output_type": "display_data"
    }
   ],
   "source": [
    "sns.pairplot(data=df,x_vars='Petal Length',y_vars='Petal Width',aspect=2,size=3)\n",
    "plt.title('Graph of Petal Length Against Sepal Length')"
   ]
  },
  {
   "cell_type": "code",
   "execution_count": 57,
   "metadata": {},
   "outputs": [
    {
     "data": {
      "text/plain": [
       "Text(0.5,1,'Graph of Petal Length Against Sepal Length')"
      ]
     },
     "execution_count": 57,
     "metadata": {},
     "output_type": "execute_result"
    },
    {
     "data": {
      "image/png": "[encoded data removed]",
      "text/plain": [
       "<Figure size 516.75x216 with 1 Axes>"
      ]
     },
     "metadata": {},
     "output_type": "display_data"
    }
   ],
   "source": [
    "sns.pairplot(data=df,x_vars='Petal Length',y_vars='Petal Width',aspect=2,size=3,hue='Target Name')\n",
    "plt.title('Graph of Petal Length Against Sepal Length')"
   ]
  },
  {
   "cell_type": "code",
   "execution_count": 58,
   "metadata": {},
   "outputs": [
    {
     "data": {
      "text/plain": [
       "Text(0.5,1,'Graph of Petal Length Against Sepal Length')"
      ]
     },
     "execution_count": 58,
     "metadata": {},
     "output_type": "execute_result"
    },
    {
     "data": {
      "image/png": "[encoded data removed]",
      "text/plain": [
       "<Figure size 432x216 with 1 Axes>"
      ]
     },
     "metadata": {},
     "output_type": "display_data"
    }
   ],
   "source": [
    "sns.pairplot(data=df,x_vars='Sepal Length',y_vars='Sepal Width',aspect=2,size=3)\n",
    "plt.title('Graph of Petal Length Against Sepal Length')"
   ]
  },
  {
   "cell_type": "code",
   "execution_count": 59,
   "metadata": {},
   "outputs": [
    {
     "data": {
      "text/plain": [
       "Text(0.5,1,'Graph of Petal Length Against Sepal Length')"
      ]
     },
     "execution_count": 59,
     "metadata": {},
     "output_type": "execute_result"
    },
    {
     "data": {
      "image/png": "[encoded data removed]",
      "text/plain": [
       "<Figure size 516.75x216 with 1 Axes>"
      ]
     },
     "metadata": {},
     "output_type": "display_data"
    }
   ],
   "source": [
    "sns.pairplot(data=df,x_vars='Sepal Length',y_vars='Sepal Width',aspect=2,size=3,hue='Target Name')\n",
    "plt.title('Graph of Petal Length Against Sepal Length')"
   ]
  },
  {
   "cell_type": "code",
   "execution_count": 60,
   "metadata": {
    "scrolled": true
   },
   "outputs": [
    {
     "data": {
      "text/plain": [
       "<matplotlib.axes._subplots.AxesSubplot at 0x2c5d1a35cf8>"
      ]
     },
     "execution_count": 60,
     "metadata": {},
     "output_type": "execute_result"
    },
    {
     "data": {
      "image/png": "[encoded data removed]",
      "text/plain": [
       "<Figure size 432x288 with 1 Axes>"
      ]
     },
     "metadata": {},
     "output_type": "display_data"
    }
   ],
   "source": [
    "sns.countplot(data=df,x='Target Name')"
   ]
  },
  {
   "cell_type": "code",
   "execution_count": 61,
   "metadata": {},
   "outputs": [
    {
     "data": {
      "text/plain": [
       "<matplotlib.axes._subplots.AxesSubplot at 0x2c5d1aeee80>"
      ]
     },
     "execution_count": 61,
     "metadata": {},
     "output_type": "execute_result"
    },
    {
     "data": {
      "image/png": "[encoded data removed]",
      "text/plain": [
       "<Figure size 432x288 with 1 Axes>"
      ]
     },
     "metadata": {},
     "output_type": "display_data"
    }
   ],
   "source": [
    "sns.boxplot(x='Target Name',y='Sepal Length',data=df)"
   ]
  },
  {
   "cell_type": "code",
   "execution_count": 64,
   "metadata": {},
   "outputs": [
    {
     "data": {
      "text/plain": [
       "<matplotlib.axes._subplots.AxesSubplot at 0x2c5d1b7ceb8>"
      ]
     },
     "execution_count": 64,
     "metadata": {},
     "output_type": "execute_result"
    },
    {
     "data": {
      "image/png": "[encoded data removed]",
      "text/plain": [
       "<Figure size 432x288 with 1 Axes>"
      ]
     },
     "metadata": {},
     "output_type": "display_data"
    }
   ],
   "source": [
    "sns.boxplot(x='Target Name',y='Sepal Width',data=df)"
   ]
  },
  {
   "cell_type": "code",
   "execution_count": null,
   "metadata": {},
   "outputs": [],
   "source": []
  },
  {
   "cell_type": "code",
   "execution_count": null,
   "metadata": {},
   "outputs": [],
   "source": []
  }
 ],
 "metadata": {
  "kernelspec": {
   "display_name": "Python 3",
   "language": "python",
   "name": "python3"
  },
  "language_info": {
   "codemirror_mode": {
    "name": "ipython",
    "version": 3
   },
   "file_extension": ".py",
   "mimetype": "text/x-python",
   "name": "python",
   "nbconvert_exporter": "python",
   "pygments_lexer": "ipython3",
   "version": "3.6.5"
  }
 },
 "nbformat": 4,
 "nbformat_minor": 2
}
