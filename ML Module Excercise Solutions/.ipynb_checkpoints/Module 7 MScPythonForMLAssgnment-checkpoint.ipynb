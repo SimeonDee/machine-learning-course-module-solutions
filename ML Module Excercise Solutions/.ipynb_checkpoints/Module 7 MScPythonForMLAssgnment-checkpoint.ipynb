{
 "cells": [
  {
   "cell_type": "markdown",
   "metadata": {},
   "source": [
    "# MODULE 7: \n",
    "# PART A: K NEAREST NEIGHBOUR (KNN)"
   ]
  },
  {
   "cell_type": "markdown",
   "metadata": {},
   "source": [
    "    *************************************************************\n",
    "    Author:  Adeyemi Adedoyin Simeon\n",
    "    Program: MSc, Computer Science, University of Ibadan\n",
    "    Course:  Machine Learning\n",
    "    Date:    26th May, 2019\n",
    "    Version: 1.2\n",
    "    E-mail:  adeyemi.sa1@gmail.com\n",
    "    *************************************************************\n",
    "    \n",
    "    *Note: Please reference the author whenever and wherever you use all/portion of this code*"
   ]
  },
  {
   "cell_type": "markdown",
   "metadata": {},
   "source": [
    "## importing libraries"
   ]
  },
  {
   "cell_type": "code",
   "execution_count": 1,
   "metadata": {},
   "outputs": [],
   "source": [
    "import pandas as pd\n",
    "import numpy as np\n",
    "import matplotlib.pyplot as plt\n",
    "import seaborn as sns"
   ]
  },
  {
   "cell_type": "code",
   "execution_count": 2,
   "metadata": {},
   "outputs": [],
   "source": [
    "%matplotlib inline"
   ]
  },
  {
   "cell_type": "markdown",
   "metadata": {},
   "source": [
    "# Calculating Euclidean Distance\n",
    "\n",
    "dist = sqrt( (X2 - X1)**2 + (Y2 - Y1)**2) )"
   ]
  },
  {
   "cell_type": "code",
   "execution_count": 28,
   "metadata": {},
   "outputs": [],
   "source": [
    "#Using SciPy\n",
    "from scipy.spatial import distance"
   ]
  },
  {
   "cell_type": "code",
   "execution_count": 29,
   "metadata": {},
   "outputs": [],
   "source": [
    "a = (2,5,6,9)\n",
    "b = (3,9,11,17)"
   ]
  },
  {
   "cell_type": "code",
   "execution_count": 30,
   "metadata": {},
   "outputs": [],
   "source": [
    "dist = distance.euclidean(a,b)"
   ]
  },
  {
   "cell_type": "code",
   "execution_count": 31,
   "metadata": {},
   "outputs": [
    {
     "data": {
      "text/plain": [
       "10.295630140987"
      ]
     },
     "execution_count": 31,
     "metadata": {},
     "output_type": "execute_result"
    }
   ],
   "source": [
    "dist"
   ]
  },
  {
   "cell_type": "code",
   "execution_count": 32,
   "metadata": {},
   "outputs": [],
   "source": [
    "#Using Numpy\n",
    "numpy_dist = np.linalg.norm(np.array(a)-np.array(b))"
   ]
  },
  {
   "cell_type": "code",
   "execution_count": 33,
   "metadata": {},
   "outputs": [
    {
     "data": {
      "text/plain": [
       "10.295630140987"
      ]
     },
     "execution_count": 33,
     "metadata": {},
     "output_type": "execute_result"
    }
   ],
   "source": [
    "numpy_dist"
   ]
  },
  {
   "cell_type": "markdown",
   "metadata": {},
   "source": [
    "#### Other Distance Measurement methods"
   ]
  },
  {
   "cell_type": "code",
   "execution_count": 34,
   "metadata": {},
   "outputs": [],
   "source": [
    "dist2 = distance.chebyshev(a,b)"
   ]
  },
  {
   "cell_type": "code",
   "execution_count": 35,
   "metadata": {},
   "outputs": [
    {
     "data": {
      "text/plain": [
       "8"
      ]
     },
     "execution_count": 35,
     "metadata": {},
     "output_type": "execute_result"
    }
   ],
   "source": [
    "dist2"
   ]
  },
  {
   "cell_type": "code",
   "execution_count": 36,
   "metadata": {},
   "outputs": [],
   "source": [
    "dist3 = distance.hamming(a,b)"
   ]
  },
  {
   "cell_type": "code",
   "execution_count": 37,
   "metadata": {},
   "outputs": [
    {
     "data": {
      "text/plain": [
       "1.0"
      ]
     },
     "execution_count": 37,
     "metadata": {},
     "output_type": "execute_result"
    }
   ],
   "source": [
    "dist3"
   ]
  },
  {
   "cell_type": "markdown",
   "metadata": {},
   "source": [
    "## Loading Iris Dataset"
   ]
  },
  {
   "cell_type": "code",
   "execution_count": 23,
   "metadata": {},
   "outputs": [],
   "source": [
    "from sklearn.datasets import load_iris"
   ]
  },
  {
   "cell_type": "code",
   "execution_count": 24,
   "metadata": {},
   "outputs": [],
   "source": [
    "dataset = load_iris()"
   ]
  },
  {
   "cell_type": "code",
   "execution_count": 38,
   "metadata": {},
   "outputs": [
    {
     "data": {
      "text/plain": [
       "dict_keys(['data', 'target', 'target_names', 'DESCR', 'feature_names'])"
      ]
     },
     "execution_count": 38,
     "metadata": {},
     "output_type": "execute_result"
    }
   ],
   "source": [
    "dataset.keys()"
   ]
  },
  {
   "cell_type": "code",
   "execution_count": 39,
   "metadata": {},
   "outputs": [
    {
     "data": {
      "text/plain": [
       "array(['setosa', 'versicolor', 'virginica'], dtype='<U10')"
      ]
     },
     "execution_count": 39,
     "metadata": {},
     "output_type": "execute_result"
    }
   ],
   "source": [
    "dataset.target_names"
   ]
  },
  {
   "cell_type": "code",
   "execution_count": 40,
   "metadata": {},
   "outputs": [
    {
     "data": {
      "text/plain": [
       "['sepal length (cm)',\n",
       " 'sepal width (cm)',\n",
       " 'petal length (cm)',\n",
       " 'petal width (cm)']"
      ]
     },
     "execution_count": 40,
     "metadata": {},
     "output_type": "execute_result"
    }
   ],
   "source": [
    "dataset.feature_names"
   ]
  },
  {
   "cell_type": "code",
   "execution_count": 42,
   "metadata": {},
   "outputs": [],
   "source": [
    "data = dataset.data\n",
    "labels = ['Sepal L','Sepal W','Petal L','Petal W']"
   ]
  },
  {
   "cell_type": "code",
   "execution_count": 43,
   "metadata": {},
   "outputs": [],
   "source": [
    "df = pd.DataFrame(data,columns=labels)"
   ]
  },
  {
   "cell_type": "code",
   "execution_count": 59,
   "metadata": {},
   "outputs": [
    {
     "data": {
      "text/html": [
       "<div>\n",
       "<style scoped>\n",
       "    .dataframe tbody tr th:only-of-type {\n",
       "        vertical-align: middle;\n",
       "    }\n",
       "\n",
       "    .dataframe tbody tr th {\n",
       "        vertical-align: top;\n",
       "    }\n",
       "\n",
       "    .dataframe thead th {\n",
       "        text-align: right;\n",
       "    }\n",
       "</style>\n",
       "<table border=\"1\" class=\"dataframe\">\n",
       "  <thead>\n",
       "    <tr style=\"text-align: right;\">\n",
       "      <th></th>\n",
       "      <th>Sepal L</th>\n",
       "      <th>Sepal W</th>\n",
       "      <th>Petal L</th>\n",
       "      <th>Petal W</th>\n",
       "    </tr>\n",
       "  </thead>\n",
       "  <tbody>\n",
       "    <tr>\n",
       "      <th>0</th>\n",
       "      <td>5.1</td>\n",
       "      <td>3.5</td>\n",
       "      <td>1.4</td>\n",
       "      <td>0.2</td>\n",
       "    </tr>\n",
       "    <tr>\n",
       "      <th>1</th>\n",
       "      <td>4.9</td>\n",
       "      <td>3.0</td>\n",
       "      <td>1.4</td>\n",
       "      <td>0.2</td>\n",
       "    </tr>\n",
       "    <tr>\n",
       "      <th>2</th>\n",
       "      <td>4.7</td>\n",
       "      <td>3.2</td>\n",
       "      <td>1.3</td>\n",
       "      <td>0.2</td>\n",
       "    </tr>\n",
       "    <tr>\n",
       "      <th>3</th>\n",
       "      <td>4.6</td>\n",
       "      <td>3.1</td>\n",
       "      <td>1.5</td>\n",
       "      <td>0.2</td>\n",
       "    </tr>\n",
       "    <tr>\n",
       "      <th>4</th>\n",
       "      <td>5.0</td>\n",
       "      <td>3.6</td>\n",
       "      <td>1.4</td>\n",
       "      <td>0.2</td>\n",
       "    </tr>\n",
       "  </tbody>\n",
       "</table>\n",
       "</div>"
      ],
      "text/plain": [
       "   Sepal L  Sepal W  Petal L  Petal W\n",
       "0      5.1      3.5      1.4      0.2\n",
       "1      4.9      3.0      1.4      0.2\n",
       "2      4.7      3.2      1.3      0.2\n",
       "3      4.6      3.1      1.5      0.2\n",
       "4      5.0      3.6      1.4      0.2"
      ]
     },
     "execution_count": 59,
     "metadata": {},
     "output_type": "execute_result"
    }
   ],
   "source": [
    "df.head()"
   ]
  },
  {
   "cell_type": "code",
   "execution_count": 60,
   "metadata": {},
   "outputs": [],
   "source": [
    "df['Specie'] = dataset.target"
   ]
  },
  {
   "cell_type": "code",
   "execution_count": 61,
   "metadata": {},
   "outputs": [
    {
     "data": {
      "text/html": [
       "<div>\n",
       "<style scoped>\n",
       "    .dataframe tbody tr th:only-of-type {\n",
       "        vertical-align: middle;\n",
       "    }\n",
       "\n",
       "    .dataframe tbody tr th {\n",
       "        vertical-align: top;\n",
       "    }\n",
       "\n",
       "    .dataframe thead th {\n",
       "        text-align: right;\n",
       "    }\n",
       "</style>\n",
       "<table border=\"1\" class=\"dataframe\">\n",
       "  <thead>\n",
       "    <tr style=\"text-align: right;\">\n",
       "      <th></th>\n",
       "      <th>Sepal L</th>\n",
       "      <th>Sepal W</th>\n",
       "      <th>Petal L</th>\n",
       "      <th>Petal W</th>\n",
       "      <th>Specie</th>\n",
       "    </tr>\n",
       "  </thead>\n",
       "  <tbody>\n",
       "    <tr>\n",
       "      <th>0</th>\n",
       "      <td>5.1</td>\n",
       "      <td>3.5</td>\n",
       "      <td>1.4</td>\n",
       "      <td>0.2</td>\n",
       "      <td>0</td>\n",
       "    </tr>\n",
       "    <tr>\n",
       "      <th>1</th>\n",
       "      <td>4.9</td>\n",
       "      <td>3.0</td>\n",
       "      <td>1.4</td>\n",
       "      <td>0.2</td>\n",
       "      <td>0</td>\n",
       "    </tr>\n",
       "    <tr>\n",
       "      <th>2</th>\n",
       "      <td>4.7</td>\n",
       "      <td>3.2</td>\n",
       "      <td>1.3</td>\n",
       "      <td>0.2</td>\n",
       "      <td>0</td>\n",
       "    </tr>\n",
       "  </tbody>\n",
       "</table>\n",
       "</div>"
      ],
      "text/plain": [
       "   Sepal L  Sepal W  Petal L  Petal W  Specie\n",
       "0      5.1      3.5      1.4      0.2       0\n",
       "1      4.9      3.0      1.4      0.2       0\n",
       "2      4.7      3.2      1.3      0.2       0"
      ]
     },
     "execution_count": 61,
     "metadata": {},
     "output_type": "execute_result"
    }
   ],
   "source": [
    "df.head(3)"
   ]
  },
  {
   "cell_type": "code",
   "execution_count": 62,
   "metadata": {},
   "outputs": [],
   "source": [
    "df['Specie Name'] = df['Specie'].apply(lambda x: dataset.target_names[x])"
   ]
  },
  {
   "cell_type": "code",
   "execution_count": 63,
   "metadata": {},
   "outputs": [
    {
     "data": {
      "text/html": [
       "<div>\n",
       "<style scoped>\n",
       "    .dataframe tbody tr th:only-of-type {\n",
       "        vertical-align: middle;\n",
       "    }\n",
       "\n",
       "    .dataframe tbody tr th {\n",
       "        vertical-align: top;\n",
       "    }\n",
       "\n",
       "    .dataframe thead th {\n",
       "        text-align: right;\n",
       "    }\n",
       "</style>\n",
       "<table border=\"1\" class=\"dataframe\">\n",
       "  <thead>\n",
       "    <tr style=\"text-align: right;\">\n",
       "      <th></th>\n",
       "      <th>Sepal L</th>\n",
       "      <th>Sepal W</th>\n",
       "      <th>Petal L</th>\n",
       "      <th>Petal W</th>\n",
       "      <th>Specie</th>\n",
       "      <th>Specie Name</th>\n",
       "    </tr>\n",
       "  </thead>\n",
       "  <tbody>\n",
       "    <tr>\n",
       "      <th>0</th>\n",
       "      <td>5.1</td>\n",
       "      <td>3.5</td>\n",
       "      <td>1.4</td>\n",
       "      <td>0.2</td>\n",
       "      <td>0</td>\n",
       "      <td>setosa</td>\n",
       "    </tr>\n",
       "    <tr>\n",
       "      <th>1</th>\n",
       "      <td>4.9</td>\n",
       "      <td>3.0</td>\n",
       "      <td>1.4</td>\n",
       "      <td>0.2</td>\n",
       "      <td>0</td>\n",
       "      <td>setosa</td>\n",
       "    </tr>\n",
       "    <tr>\n",
       "      <th>2</th>\n",
       "      <td>4.7</td>\n",
       "      <td>3.2</td>\n",
       "      <td>1.3</td>\n",
       "      <td>0.2</td>\n",
       "      <td>0</td>\n",
       "      <td>setosa</td>\n",
       "    </tr>\n",
       "  </tbody>\n",
       "</table>\n",
       "</div>"
      ],
      "text/plain": [
       "   Sepal L  Sepal W  Petal L  Petal W  Specie Specie Name\n",
       "0      5.1      3.5      1.4      0.2       0      setosa\n",
       "1      4.9      3.0      1.4      0.2       0      setosa\n",
       "2      4.7      3.2      1.3      0.2       0      setosa"
      ]
     },
     "execution_count": 63,
     "metadata": {},
     "output_type": "execute_result"
    }
   ],
   "source": [
    "df.head(3)"
   ]
  },
  {
   "cell_type": "code",
   "execution_count": 64,
   "metadata": {},
   "outputs": [
    {
     "data": {
      "text/html": [
       "<div>\n",
       "<style scoped>\n",
       "    .dataframe tbody tr th:only-of-type {\n",
       "        vertical-align: middle;\n",
       "    }\n",
       "\n",
       "    .dataframe tbody tr th {\n",
       "        vertical-align: top;\n",
       "    }\n",
       "\n",
       "    .dataframe thead th {\n",
       "        text-align: right;\n",
       "    }\n",
       "</style>\n",
       "<table border=\"1\" class=\"dataframe\">\n",
       "  <thead>\n",
       "    <tr style=\"text-align: right;\">\n",
       "      <th></th>\n",
       "      <th>Sepal L</th>\n",
       "      <th>Sepal W</th>\n",
       "      <th>Petal L</th>\n",
       "      <th>Petal W</th>\n",
       "      <th>Specie</th>\n",
       "      <th>Specie Name</th>\n",
       "    </tr>\n",
       "  </thead>\n",
       "  <tbody>\n",
       "    <tr>\n",
       "      <th>50</th>\n",
       "      <td>7.0</td>\n",
       "      <td>3.2</td>\n",
       "      <td>4.7</td>\n",
       "      <td>1.4</td>\n",
       "      <td>1</td>\n",
       "      <td>versicolor</td>\n",
       "    </tr>\n",
       "    <tr>\n",
       "      <th>51</th>\n",
       "      <td>6.4</td>\n",
       "      <td>3.2</td>\n",
       "      <td>4.5</td>\n",
       "      <td>1.5</td>\n",
       "      <td>1</td>\n",
       "      <td>versicolor</td>\n",
       "    </tr>\n",
       "    <tr>\n",
       "      <th>52</th>\n",
       "      <td>6.9</td>\n",
       "      <td>3.1</td>\n",
       "      <td>4.9</td>\n",
       "      <td>1.5</td>\n",
       "      <td>1</td>\n",
       "      <td>versicolor</td>\n",
       "    </tr>\n",
       "  </tbody>\n",
       "</table>\n",
       "</div>"
      ],
      "text/plain": [
       "    Sepal L  Sepal W  Petal L  Petal W  Specie Specie Name\n",
       "50      7.0      3.2      4.7      1.4       1  versicolor\n",
       "51      6.4      3.2      4.5      1.5       1  versicolor\n",
       "52      6.9      3.1      4.9      1.5       1  versicolor"
      ]
     },
     "execution_count": 64,
     "metadata": {},
     "output_type": "execute_result"
    }
   ],
   "source": [
    "df[df['Specie'] == 1].head(3)"
   ]
  },
  {
   "cell_type": "code",
   "execution_count": 65,
   "metadata": {},
   "outputs": [
    {
     "data": {
      "text/html": [
       "<div>\n",
       "<style scoped>\n",
       "    .dataframe tbody tr th:only-of-type {\n",
       "        vertical-align: middle;\n",
       "    }\n",
       "\n",
       "    .dataframe tbody tr th {\n",
       "        vertical-align: top;\n",
       "    }\n",
       "\n",
       "    .dataframe thead th {\n",
       "        text-align: right;\n",
       "    }\n",
       "</style>\n",
       "<table border=\"1\" class=\"dataframe\">\n",
       "  <thead>\n",
       "    <tr style=\"text-align: right;\">\n",
       "      <th></th>\n",
       "      <th>Sepal L</th>\n",
       "      <th>Sepal W</th>\n",
       "      <th>Petal L</th>\n",
       "      <th>Petal W</th>\n",
       "      <th>Specie</th>\n",
       "      <th>Specie Name</th>\n",
       "    </tr>\n",
       "  </thead>\n",
       "  <tbody>\n",
       "    <tr>\n",
       "      <th>100</th>\n",
       "      <td>6.3</td>\n",
       "      <td>3.3</td>\n",
       "      <td>6.0</td>\n",
       "      <td>2.5</td>\n",
       "      <td>2</td>\n",
       "      <td>virginica</td>\n",
       "    </tr>\n",
       "    <tr>\n",
       "      <th>101</th>\n",
       "      <td>5.8</td>\n",
       "      <td>2.7</td>\n",
       "      <td>5.1</td>\n",
       "      <td>1.9</td>\n",
       "      <td>2</td>\n",
       "      <td>virginica</td>\n",
       "    </tr>\n",
       "    <tr>\n",
       "      <th>102</th>\n",
       "      <td>7.1</td>\n",
       "      <td>3.0</td>\n",
       "      <td>5.9</td>\n",
       "      <td>2.1</td>\n",
       "      <td>2</td>\n",
       "      <td>virginica</td>\n",
       "    </tr>\n",
       "  </tbody>\n",
       "</table>\n",
       "</div>"
      ],
      "text/plain": [
       "     Sepal L  Sepal W  Petal L  Petal W  Specie Specie Name\n",
       "100      6.3      3.3      6.0      2.5       2   virginica\n",
       "101      5.8      2.7      5.1      1.9       2   virginica\n",
       "102      7.1      3.0      5.9      2.1       2   virginica"
      ]
     },
     "execution_count": 65,
     "metadata": {},
     "output_type": "execute_result"
    }
   ],
   "source": [
    "df[df['Specie'] == 2].head(3)"
   ]
  },
  {
   "cell_type": "code",
   "execution_count": 99,
   "metadata": {},
   "outputs": [
    {
     "data": {
      "text/plain": [
       "Text(0.5,1,'Petal Width Vs Petal Length')"
      ]
     },
     "execution_count": 99,
     "metadata": {},
     "output_type": "execute_result"
    },
    {
     "data": {
      "image/png": "[encoded data removed]",
      "text/plain": [
       "<Figure size 432x288 with 2 Axes>"
      ]
     },
     "metadata": {},
     "output_type": "display_data"
    }
   ],
   "source": [
    "#Using matplotlib\n",
    "plt.subplot(1,2,1)\n",
    "plt.scatter(data=df,x='Sepal W',y='Sepal L')\n",
    "plt.xlabel('Sepal Width')\n",
    "plt.ylabel('Sepal Length')\n",
    "plt.title('Sepal Width Vs Sepal Length')\n",
    "\n",
    "plt.subplot(1,2,2)\n",
    "plt.scatter(data=df,x='Petal W',y='Petal L')\n",
    "plt.xlabel('Petal Width')\n",
    "plt.ylabel('Petal Length')\n",
    "plt.title('Petal Width Vs Petal Length')\n"
   ]
  },
  {
   "cell_type": "code",
   "execution_count": 78,
   "metadata": {},
   "outputs": [
    {
     "data": {
      "text/plain": [
       "<seaborn.axisgrid.PairGrid at 0x29e54fbb898>"
      ]
     },
     "execution_count": 78,
     "metadata": {},
     "output_type": "execute_result"
    },
    {
     "data": {
      "image/png": "[encoded data removed]",
      "text/plain": [
       "<Figure size 473.55x216 with 1 Axes>"
      ]
     },
     "metadata": {},
     "output_type": "display_data"
    }
   ],
   "source": [
    "#Using seaborn\n",
    "sns.pairplot(data=df,x_vars='Sepal W',y_vars='Sepal L', hue='Specie Name',aspect=1.8,size=3)"
   ]
  },
  {
   "cell_type": "code",
   "execution_count": 101,
   "metadata": {},
   "outputs": [
    {
     "data": {
      "text/plain": [
       "<seaborn.axisgrid.PairGrid at 0x29e5698bac8>"
      ]
     },
     "execution_count": 101,
     "metadata": {},
     "output_type": "execute_result"
    },
    {
     "data": {
      "image/png": "[encoded data removed]",
      "text/plain": [
       "<Figure size 473.55x216 with 1 Axes>"
      ]
     },
     "metadata": {},
     "output_type": "display_data"
    }
   ],
   "source": [
    "sns.pairplot(data=df,x_vars='Petal W',y_vars='Petal L', hue='Specie Name',markers=[\"o\", \"s\", \"D\"],aspect=1.8,size=3,)"
   ]
  },
  {
   "cell_type": "markdown",
   "metadata": {},
   "source": [
    "## Splitting the data into Train and Test Sample using train_test_splt func of sklearn"
   ]
  },
  {
   "cell_type": "code",
   "execution_count": 102,
   "metadata": {},
   "outputs": [],
   "source": [
    "from sklearn.cross_validation import train_test_split"
   ]
  },
  {
   "cell_type": "code",
   "execution_count": 107,
   "metadata": {},
   "outputs": [],
   "source": [
    "X = df.drop(['Specie','Specie Name'],axis=1)\n",
    "y = df['Specie']"
   ]
  },
  {
   "cell_type": "code",
   "execution_count": 108,
   "metadata": {},
   "outputs": [],
   "source": [
    "X_train, X_test, y_train, y_test = train_test_split(X, y, test_size=0.33, random_state=42)\n"
   ]
  },
  {
   "cell_type": "code",
   "execution_count": 109,
   "metadata": {},
   "outputs": [
    {
     "name": "stdout",
     "output_type": "stream",
     "text": [
      "     Sepal L  Sepal W  Petal L  Petal W\n",
      "96       5.7      2.9      4.2      1.3\n",
      "105      7.6      3.0      6.6      2.1\n",
      "66       5.6      3.0      4.5      1.5\n",
      "0        5.1      3.5      1.4      0.2\n",
      "122      7.7      2.8      6.7      2.0\n",
      "67       5.8      2.7      4.1      1.0\n",
      "28       5.2      3.4      1.4      0.2\n",
      "40       5.0      3.5      1.3      0.3\n",
      "44       5.1      3.8      1.9      0.4\n",
      "60       5.0      2.0      3.5      1.0\n",
      "123      6.3      2.7      4.9      1.8\n",
      "24       4.8      3.4      1.9      0.2\n",
      "25       5.0      3.0      1.6      0.2\n",
      "23       5.1      3.3      1.7      0.5\n",
      "94       5.6      2.7      4.2      1.3\n",
      "39       5.1      3.4      1.5      0.2\n",
      "95       5.7      3.0      4.2      1.2\n",
      "117      7.7      3.8      6.7      2.2\n",
      "47       4.6      3.2      1.4      0.2\n",
      "97       6.2      2.9      4.3      1.3\n",
      "113      5.7      2.5      5.0      2.0\n",
      "33       5.5      4.2      1.4      0.2\n",
      "138      6.0      3.0      4.8      1.8\n",
      "101      5.8      2.7      5.1      1.9\n",
      "62       6.0      2.2      4.0      1.0\n",
      "84       5.4      3.0      4.5      1.5\n",
      "148      6.2      3.4      5.4      2.3\n",
      "53       5.5      2.3      4.0      1.3\n",
      "5        5.4      3.9      1.7      0.4\n",
      "93       5.0      2.3      3.3      1.0\n",
      "..       ...      ...      ...      ...\n",
      "91       6.1      3.0      4.6      1.4\n",
      "41       4.5      2.3      1.3      0.3\n",
      "58       6.6      2.9      4.6      1.3\n",
      "90       5.5      2.6      4.4      1.2\n",
      "48       5.3      3.7      1.5      0.2\n",
      "88       5.6      3.0      4.1      1.3\n",
      "107      7.3      2.9      6.3      1.8\n",
      "124      6.7      3.3      5.7      2.1\n",
      "21       5.1      3.7      1.5      0.4\n",
      "57       4.9      2.4      3.3      1.0\n",
      "144      6.7      3.3      5.7      2.5\n",
      "129      7.2      3.0      5.8      1.6\n",
      "37       4.9      3.1      1.5      0.1\n",
      "140      6.7      3.1      5.6      2.4\n",
      "1        4.9      3.0      1.4      0.2\n",
      "52       6.9      3.1      4.9      1.5\n",
      "130      7.4      2.8      6.1      1.9\n",
      "103      6.3      2.9      5.6      1.8\n",
      "99       5.7      2.8      4.1      1.3\n",
      "116      6.5      3.0      5.5      1.8\n",
      "87       6.3      2.3      4.4      1.3\n",
      "74       6.4      2.9      4.3      1.3\n",
      "121      5.6      2.8      4.9      2.0\n",
      "149      5.9      3.0      5.1      1.8\n",
      "20       5.4      3.4      1.7      0.2\n",
      "71       6.1      2.8      4.0      1.3\n",
      "106      4.9      2.5      4.5      1.7\n",
      "14       5.8      4.0      1.2      0.2\n",
      "92       5.8      2.6      4.0      1.2\n",
      "102      7.1      3.0      5.9      2.1\n",
      "\n",
      "[100 rows x 4 columns]\n",
      "\n",
      "\n",
      "96     1\n",
      "105    2\n",
      "66     1\n",
      "0      0\n",
      "122    2\n",
      "67     1\n",
      "28     0\n",
      "40     0\n",
      "44     0\n",
      "60     1\n",
      "123    2\n",
      "24     0\n",
      "25     0\n",
      "23     0\n",
      "94     1\n",
      "39     0\n",
      "95     1\n",
      "117    2\n",
      "47     0\n",
      "97     1\n",
      "113    2\n",
      "33     0\n",
      "138    2\n",
      "101    2\n",
      "62     1\n",
      "84     1\n",
      "148    2\n",
      "53     1\n",
      "5      0\n",
      "93     1\n",
      "      ..\n",
      "91     1\n",
      "41     0\n",
      "58     1\n",
      "90     1\n",
      "48     0\n",
      "88     1\n",
      "107    2\n",
      "124    2\n",
      "21     0\n",
      "57     1\n",
      "144    2\n",
      "129    2\n",
      "37     0\n",
      "140    2\n",
      "1      0\n",
      "52     1\n",
      "130    2\n",
      "103    2\n",
      "99     1\n",
      "116    2\n",
      "87     1\n",
      "74     1\n",
      "121    2\n",
      "149    2\n",
      "20     0\n",
      "71     1\n",
      "106    2\n",
      "14     0\n",
      "92     1\n",
      "102    2\n",
      "Name: Specie, Length: 100, dtype: int32\n",
      "\n",
      "\n",
      "     Sepal L  Sepal W  Petal L  Petal W\n",
      "73       6.1      2.8      4.7      1.2\n",
      "18       5.7      3.8      1.7      0.3\n",
      "118      7.7      2.6      6.9      2.3\n",
      "78       6.0      2.9      4.5      1.5\n",
      "76       6.8      2.8      4.8      1.4\n",
      "31       5.4      3.4      1.5      0.4\n",
      "64       5.6      2.9      3.6      1.3\n",
      "141      6.9      3.1      5.1      2.3\n",
      "68       6.2      2.2      4.5      1.5\n",
      "82       5.8      2.7      3.9      1.2\n",
      "110      6.5      3.2      5.1      2.0\n",
      "12       4.8      3.0      1.4      0.1\n",
      "36       5.5      3.5      1.3      0.2\n",
      "9        4.9      3.1      1.5      0.1\n",
      "19       5.1      3.8      1.5      0.3\n",
      "56       6.3      3.3      4.7      1.6\n",
      "104      6.5      3.0      5.8      2.2\n",
      "69       5.6      2.5      3.9      1.1\n",
      "55       5.7      2.8      4.5      1.3\n",
      "132      6.4      2.8      5.6      2.2\n",
      "29       4.7      3.2      1.6      0.2\n",
      "127      6.1      3.0      4.9      1.8\n",
      "26       5.0      3.4      1.6      0.4\n",
      "128      6.4      2.8      5.6      2.1\n",
      "131      7.9      3.8      6.4      2.0\n",
      "145      6.7      3.0      5.2      2.3\n",
      "108      6.7      2.5      5.8      1.8\n",
      "143      6.8      3.2      5.9      2.3\n",
      "45       4.8      3.0      1.4      0.3\n",
      "30       4.8      3.1      1.6      0.2\n",
      "22       4.6      3.6      1.0      0.2\n",
      "15       5.7      4.4      1.5      0.4\n",
      "65       6.7      3.1      4.4      1.4\n",
      "11       4.8      3.4      1.6      0.2\n",
      "42       4.4      3.2      1.3      0.2\n",
      "146      6.3      2.5      5.0      1.9\n",
      "51       6.4      3.2      4.5      1.5\n",
      "27       5.2      3.5      1.5      0.2\n",
      "4        5.0      3.6      1.4      0.2\n",
      "32       5.2      4.1      1.5      0.1\n",
      "142      5.8      2.7      5.1      1.9\n",
      "85       6.0      3.4      4.5      1.6\n",
      "86       6.7      3.1      4.7      1.5\n",
      "16       5.4      3.9      1.3      0.4\n",
      "10       5.4      3.7      1.5      0.2\n",
      "81       5.5      2.4      3.7      1.0\n",
      "133      6.3      2.8      5.1      1.5\n",
      "137      6.4      3.1      5.5      1.8\n",
      "75       6.6      3.0      4.4      1.4\n",
      "109      7.2      3.6      6.1      2.5\n",
      "\n",
      "\n",
      "73     1\n",
      "18     0\n",
      "118    2\n",
      "78     1\n",
      "76     1\n",
      "31     0\n",
      "64     1\n",
      "141    2\n",
      "68     1\n",
      "82     1\n",
      "110    2\n",
      "12     0\n",
      "36     0\n",
      "9      0\n",
      "19     0\n",
      "56     1\n",
      "104    2\n",
      "69     1\n",
      "55     1\n",
      "132    2\n",
      "29     0\n",
      "127    2\n",
      "26     0\n",
      "128    2\n",
      "131    2\n",
      "145    2\n",
      "108    2\n",
      "143    2\n",
      "45     0\n",
      "30     0\n",
      "22     0\n",
      "15     0\n",
      "65     1\n",
      "11     0\n",
      "42     0\n",
      "146    2\n",
      "51     1\n",
      "27     0\n",
      "4      0\n",
      "32     0\n",
      "142    2\n",
      "85     1\n",
      "86     1\n",
      "16     0\n",
      "10     0\n",
      "81     1\n",
      "133    2\n",
      "137    2\n",
      "75     1\n",
      "109    2\n",
      "Name: Specie, dtype: int32\n",
      "\n",
      "\n"
     ]
    }
   ],
   "source": [
    "print(X_train)\n",
    "print('\\n')\n",
    "print(y_train)\n",
    "print('\\n')\n",
    "print(X_test)\n",
    "print('\\n')\n",
    "print(y_test)\n",
    "print('\\n')"
   ]
  },
  {
   "cell_type": "markdown",
   "metadata": {},
   "source": [
    "## Training / Fitting KNN Model with the Training Data Sample"
   ]
  },
  {
   "cell_type": "code",
   "execution_count": 110,
   "metadata": {},
   "outputs": [],
   "source": [
    "from sklearn.neighbors import KNeighborsClassifier"
   ]
  },
  {
   "cell_type": "code",
   "execution_count": 111,
   "metadata": {},
   "outputs": [],
   "source": [
    "knn = KNeighborsClassifier(n_neighbors=3)"
   ]
  },
  {
   "cell_type": "code",
   "execution_count": 112,
   "metadata": {},
   "outputs": [
    {
     "data": {
      "text/plain": [
       "KNeighborsClassifier(algorithm='auto', leaf_size=30, metric='minkowski',\n",
       "           metric_params=None, n_jobs=1, n_neighbors=3, p=2,\n",
       "           weights='uniform')"
      ]
     },
     "execution_count": 112,
     "metadata": {},
     "output_type": "execute_result"
    }
   ],
   "source": [
    "knn.fit(X_train,y_train)"
   ]
  },
  {
   "cell_type": "code",
   "execution_count": 113,
   "metadata": {},
   "outputs": [],
   "source": [
    "y_predictions = knn.predict(X_test)"
   ]
  },
  {
   "cell_type": "markdown",
   "metadata": {},
   "source": [
    "## Evaluation of the Model (KNN)"
   ]
  },
  {
   "cell_type": "code",
   "execution_count": 116,
   "metadata": {},
   "outputs": [],
   "source": [
    "from sklearn.metrics import accuracy_score,confusion_matrix,classification_report"
   ]
  },
  {
   "cell_type": "code",
   "execution_count": 117,
   "metadata": {},
   "outputs": [
    {
     "name": "stdout",
     "output_type": "stream",
     "text": [
      "0.98\n"
     ]
    }
   ],
   "source": [
    "print(accuracy_score(y_test,y_predictions))"
   ]
  },
  {
   "cell_type": "code",
   "execution_count": 118,
   "metadata": {},
   "outputs": [
    {
     "name": "stdout",
     "output_type": "stream",
     "text": [
      "[[19  0  0]\n",
      " [ 0 15  0]\n",
      " [ 0  1 15]]\n"
     ]
    }
   ],
   "source": [
    "print(confusion_matrix(y_test,y_predictions))"
   ]
  },
  {
   "cell_type": "code",
   "execution_count": 119,
   "metadata": {},
   "outputs": [
    {
     "name": "stdout",
     "output_type": "stream",
     "text": [
      "             precision    recall  f1-score   support\n",
      "\n",
      "          0       1.00      1.00      1.00        19\n",
      "          1       0.94      1.00      0.97        15\n",
      "          2       1.00      0.94      0.97        16\n",
      "\n",
      "avg / total       0.98      0.98      0.98        50\n",
      "\n"
     ]
    }
   ],
   "source": [
    "print(classification_report(y_test,y_predictions))"
   ]
  },
  {
   "cell_type": "markdown",
   "metadata": {},
   "source": [
    "# PART B: VALIDATIONS"
   ]
  },
  {
   "cell_type": "markdown",
   "metadata": {},
   "source": [
    "## K-Fold Validation"
   ]
  },
  {
   "cell_type": "markdown",
   "metadata": {},
   "source": [
    "### Using 10-fold validation"
   ]
  },
  {
   "cell_type": "code",
   "execution_count": 139,
   "metadata": {},
   "outputs": [],
   "source": [
    "from sklearn.cross_validation import cross_val_score"
   ]
  },
  {
   "cell_type": "code",
   "execution_count": 140,
   "metadata": {},
   "outputs": [],
   "source": [
    "L = list(range(1,51))"
   ]
  },
  {
   "cell_type": "code",
   "execution_count": 141,
   "metadata": {},
   "outputs": [],
   "source": [
    "neighbours = list(filter(lambda x: x % 2 == 0, L))"
   ]
  },
  {
   "cell_type": "code",
   "execution_count": 165,
   "metadata": {},
   "outputs": [],
   "source": [
    "#Note: cv = 10 represents the number of folds i.e. 10-folds\n",
    "valid_scores = list()\n",
    "for k in neighbours:\n",
    "    knn_classifier = KNeighborsClassifier(k)\n",
    "    score = cross_val_score(knn_classifier,X_train, y_train,scoring='accuracy',cv=10)\n",
    "    valid_scores.append(score.mean())"
   ]
  },
  {
   "cell_type": "markdown",
   "metadata": {},
   "source": [
    "### Visualizing each k values against corresponging accuracy scores generated"
   ]
  },
  {
   "cell_type": "code",
   "execution_count": 166,
   "metadata": {},
   "outputs": [
    {
     "data": {
      "text/plain": [
       "Text(0.5,1,'K-Values Vs Accuracy Rate')"
      ]
     },
     "execution_count": 166,
     "metadata": {},
     "output_type": "execute_result"
    },
    {
     "data": {
      "image/png": "[encoded data removed]",
      "text/plain": [
       "<Figure size 432x288 with 1 Axes>"
      ]
     },
     "metadata": {},
     "output_type": "display_data"
    }
   ],
   "source": [
    "plt.plot(neighbours, valid_scores)\n",
    "plt.xlabel('K Values')\n",
    "plt.ylabel('Accuracy Rate')\n",
    "plt.title('K-Values Vs Accuracy Rate')"
   ]
  },
  {
   "cell_type": "code",
   "execution_count": 167,
   "metadata": {},
   "outputs": [],
   "source": [
    "optimum_k_val = neighbours[valid_scores.index(max(valid_scores))]"
   ]
  },
  {
   "cell_type": "code",
   "execution_count": 168,
   "metadata": {},
   "outputs": [
    {
     "data": {
      "text/plain": [
       "4"
      ]
     },
     "execution_count": 168,
     "metadata": {},
     "output_type": "execute_result"
    }
   ],
   "source": [
    "optimum_k_val"
   ]
  },
  {
   "cell_type": "markdown",
   "metadata": {},
   "source": [
    "### Visualizing each K values against corresponging Error rates (mse) generated"
   ]
  },
  {
   "cell_type": "code",
   "execution_count": 169,
   "metadata": {},
   "outputs": [],
   "source": [
    "mean_sq_err = [1 - x for x in valid_scores]"
   ]
  },
  {
   "cell_type": "code",
   "execution_count": 170,
   "metadata": {},
   "outputs": [
    {
     "data": {
      "text/plain": [
       "Text(0.5,1,'K-Values Vs Error Rates')"
      ]
     },
     "execution_count": 170,
     "metadata": {},
     "output_type": "execute_result"
    },
    {
     "data": {
      "image/png": "[encoded data removed]",
      "text/plain": [
       "<Figure size 432x288 with 1 Axes>"
      ]
     },
     "metadata": {},
     "output_type": "display_data"
    }
   ],
   "source": [
    "plt.plot(neighbours, mean_sq_err)\n",
    "plt.xlabel('K Values')\n",
    "plt.ylabel('Error Rate (mean squre error)')\n",
    "plt.title('K-Values Vs Error Rates')"
   ]
  },
  {
   "cell_type": "code",
   "execution_count": 171,
   "metadata": {},
   "outputs": [],
   "source": [
    "optimum_k_wt_least_error = neighbours[mean_sq_err.index(min(mean_sq_err))]"
   ]
  },
  {
   "cell_type": "code",
   "execution_count": 172,
   "metadata": {},
   "outputs": [
    {
     "data": {
      "text/plain": [
       "4"
      ]
     },
     "execution_count": 172,
     "metadata": {},
     "output_type": "execute_result"
    }
   ],
   "source": [
    "optimum_k_wt_least_error"
   ]
  },
  {
   "cell_type": "markdown",
   "metadata": {},
   "source": [
    "### Peeping into accuracy and error-rate array results"
   ]
  },
  {
   "cell_type": "code",
   "execution_count": 190,
   "metadata": {},
   "outputs": [],
   "source": [
    "perc_of_accuracy = [np.round(x*100) for x in valid_scores]"
   ]
  },
  {
   "cell_type": "code",
   "execution_count": 191,
   "metadata": {},
   "outputs": [
    {
     "name": "stdout",
     "output_type": "stream",
     "text": [
      "[94.0, 95.0, 93.0, 94.0, 94.0, 93.0, 94.0, 93.0, 93.0, 93.0, 92.0, 93.0, 93.0, 90.0, 90.0, 91.0, 90.0, 91.0, 90.0, 89.0, 89.0, 88.0, 88.0, 88.0, 88.0]\n"
     ]
    }
   ],
   "source": [
    "print(perc_of_accuracy)"
   ]
  },
  {
   "cell_type": "code",
   "execution_count": 192,
   "metadata": {},
   "outputs": [
    {
     "data": {
      "text/plain": [
       "array([0.93510101, 0.95126263, 0.93419192, 0.94419192, 0.94419192,\n",
       "       0.93419192, 0.94419192, 0.93419192, 0.93252525, 0.93343434,\n",
       "       0.92232323, 0.93308081, 0.93232323, 0.90010101, 0.90010101,\n",
       "       0.91121212, 0.90010101, 0.91121212, 0.90287879, 0.89176768,\n",
       "       0.89176768, 0.88267677, 0.88267677, 0.88267677, 0.88267677])"
      ]
     },
     "execution_count": 192,
     "metadata": {},
     "output_type": "execute_result"
    }
   ],
   "source": [
    "np.array(valid_scores)"
   ]
  },
  {
   "cell_type": "code",
   "execution_count": 193,
   "metadata": {},
   "outputs": [],
   "source": [
    "perc_of_error = [np.round(x*100) for x in mean_sq_err]"
   ]
  },
  {
   "cell_type": "code",
   "execution_count": 194,
   "metadata": {},
   "outputs": [
    {
     "name": "stdout",
     "output_type": "stream",
     "text": [
      "[6.0, 5.0, 7.0, 6.0, 6.0, 7.0, 6.0, 7.0, 7.0, 7.0, 8.0, 7.0, 7.0, 10.0, 10.0, 9.0, 10.0, 9.0, 10.0, 11.0, 11.0, 12.0, 12.0, 12.0, 12.0]\n"
     ]
    }
   ],
   "source": [
    "print(perc_of_error)"
   ]
  },
  {
   "cell_type": "code",
   "execution_count": 195,
   "metadata": {},
   "outputs": [
    {
     "data": {
      "text/plain": [
       "array([0.06489899, 0.04873737, 0.06580808, 0.05580808, 0.05580808,\n",
       "       0.06580808, 0.05580808, 0.06580808, 0.06747475, 0.06656566,\n",
       "       0.07767677, 0.06691919, 0.06767677, 0.09989899, 0.09989899,\n",
       "       0.08878788, 0.09989899, 0.08878788, 0.09712121, 0.10823232,\n",
       "       0.10823232, 0.11732323, 0.11732323, 0.11732323, 0.11732323])"
      ]
     },
     "execution_count": 195,
     "metadata": {},
     "output_type": "execute_result"
    }
   ],
   "source": [
    "np.array(mean_sq_err)"
   ]
  },
  {
   "cell_type": "code",
   "execution_count": null,
   "metadata": {},
   "outputs": [],
   "source": []
  }
 ],
 "metadata": {
  "kernelspec": {
   "display_name": "Python 3",
   "language": "python",
   "name": "python3"
  },
  "language_info": {
   "codemirror_mode": {
    "name": "ipython",
    "version": 3
   },
   "file_extension": ".py",
   "mimetype": "text/x-python",
   "name": "python",
   "nbconvert_exporter": "python",
   "pygments_lexer": "ipython3",
   "version": "3.6.5"
  }
 },
 "nbformat": 4,
 "nbformat_minor": 2
}
